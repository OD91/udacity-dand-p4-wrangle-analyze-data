{
 "cells": [
  {
   "cell_type": "markdown",
   "metadata": {},
   "source": [
    "# 1.0 Data Gathering"
   ]
  },
  {
   "cell_type": "markdown",
   "metadata": {},
   "source": [
    "### 1.1 Downloaded manually the WeRateDogs Twitter archive"
   ]
  },
  {
   "cell_type": "code",
   "execution_count": 24,
   "metadata": {},
   "outputs": [],
   "source": [
    "import pandas as pd\n",
    "import numpy as np\n",
    "import matplotlib.pyplot as plt\n",
    "import seaborn as sns\n",
    "%matplotlib inline\n",
    "import requests\n",
    "import tweepy \n",
    "import json"
   ]
  },
  {
   "cell_type": "code",
   "execution_count": 25,
   "metadata": {},
   "outputs": [],
   "source": [
    "twitter_archive_enhanced = pd.read_csv('twitter-archive-enhanced.csv')"
   ]
  },
  {
   "cell_type": "markdown",
   "metadata": {},
   "source": [
    "### 1.2 Downloaded programmatically (via Requests library) the tweet image predictions"
   ]
  },
  {
   "cell_type": "code",
   "execution_count": 29,
   "metadata": {},
   "outputs": [],
   "source": [
    "url = 'https://d17h27t6h515a5.cloudfront.net/topher/2017/August/599fd2ad_image-predictions/image-predictions.tsv'\n",
    "response = requests.get(url)        \n",
    "\n",
    "with open('image_predictions.tsv', mode ='wb') as file:\n",
    "    file.write(response.content)\n",
    "\n",
    "image_predictions = pd.read_csv('image_predictions.tsv', delimiter='\\t' )"
   ]
  },
  {
   "cell_type": "markdown",
   "metadata": {},
   "source": [
    "### 1.3 Downloaded  (via API & Tweepy) retweet-count and like-count for  tweet IDs from the WeRateDogs Twitter archive"
   ]
  },
  {
   "cell_type": "code",
   "execution_count": null,
   "metadata": {},
   "outputs": [],
   "source": []
  },
  {
   "cell_type": "markdown",
   "metadata": {},
   "source": [
    "Getting the set-up"
   ]
  },
  {
   "cell_type": "code",
   "execution_count": 30,
   "metadata": {},
   "outputs": [],
   "source": [
    "consumer_key = 'HIDDEN'\n",
    "consumer_secret = 'HIDDEN'\n",
    "access_token = 'HIDDEN'\n",
    "access_secret = 'HIDDEN'\n",
    "\n",
    "\n",
    "auth = tweepy.OAuthHandler(consumer_key, consumer_secret)\n",
    "auth.set_access_token(access_token, access_secret)\n",
    "\n",
    "api = tweepy.API(auth, parser=tweepy.parsers.JSONParser())"
   ]
  },
  {
   "cell_type": "markdown",
   "metadata": {},
   "source": [
    "Retrieving the tweet data for the tweet ids via the Twitter API (with help of the Tweepy library)"
   ]
  },
  {
   "cell_type": "code",
   "execution_count": 31,
   "metadata": {},
   "outputs": [
    {
     "name": "stdout",
     "output_type": "stream",
     "text": [
      "888202515573088257\n",
      "873697596434513921\n",
      "872668790621863937\n",
      "872261713294495745\n",
      "869988702071779329\n",
      "866816280283807744\n",
      "861769973181624320\n",
      "856602993587888130\n",
      "851953902622658560\n",
      "845459076796616705\n",
      "844704788403113984\n",
      "842892208864923648\n",
      "837366284874571778\n",
      "837012587749474308\n",
      "829374341691346946\n",
      "827228250799742977\n",
      "812747805718642688\n",
      "802247111496568832\n",
      "779123168116150273\n",
      "775096608509886464\n",
      "771004394259247104\n",
      "770743923962707968\n",
      "759566828574212096\n"
     ]
    },
    {
     "name": "stderr",
     "output_type": "stream",
     "text": [
      "Rate limit reached. Sleeping for: 668\n"
     ]
    },
    {
     "name": "stdout",
     "output_type": "stream",
     "text": [
      "758740312047005698\n",
      "754011816964026368\n",
      "680055455951884288\n"
     ]
    },
    {
     "name": "stderr",
     "output_type": "stream",
     "text": [
      "Rate limit reached. Sleeping for: 657\n"
     ]
    },
    {
     "name": "stdout",
     "output_type": "stream",
     "text": [
      "676957860086095872\n"
     ]
    }
   ],
   "source": [
    "tweet_ids = list(twitter_archive_enhanced['tweet_id'])\n",
    "\n",
    "tweet_data = []\n",
    "tweet_id_success = []\n",
    "tweet_id_missing = []\n",
    "for tweet_id in tweet_ids:\n",
    "    try:\n",
    "        data = api.get_status(tweet_id, \n",
    "                              tweet_mode='extended',\n",
    "                              wait_on_rate_limit = True,\n",
    "                              wait_on_rate_limit_notify = True)\n",
    "        tweet_data.append(data)\n",
    "        tweet_id_success.append(tweet_id)\n",
    "    except:\n",
    "        tweet_id_missing.append(tweet_id)\n",
    "        print(tweet_id)"
   ]
  },
  {
   "cell_type": "markdown",
   "metadata": {},
   "source": [
    "Storing the data to a json.txt file"
   ]
  },
  {
   "cell_type": "code",
   "execution_count": 32,
   "metadata": {},
   "outputs": [],
   "source": [
    "with open('tweet_json.txt', mode = 'w') as outfile:\n",
    "    json.dump(tweet_data, outfile)"
   ]
  },
  {
   "cell_type": "markdown",
   "metadata": {},
   "source": [
    "Loading the Twitter API data into a DataFrame"
   ]
  },
  {
   "cell_type": "code",
   "execution_count": 33,
   "metadata": {},
   "outputs": [
    {
     "data": {
      "text/html": [
       "<div>\n",
       "<style scoped>\n",
       "    .dataframe tbody tr th:only-of-type {\n",
       "        vertical-align: middle;\n",
       "    }\n",
       "\n",
       "    .dataframe tbody tr th {\n",
       "        vertical-align: top;\n",
       "    }\n",
       "\n",
       "    .dataframe thead th {\n",
       "        text-align: right;\n",
       "    }\n",
       "</style>\n",
       "<table border=\"1\" class=\"dataframe\">\n",
       "  <thead>\n",
       "    <tr style=\"text-align: right;\">\n",
       "      <th></th>\n",
       "      <th>tweet_id</th>\n",
       "      <th>retweet_count</th>\n",
       "      <th>favorite_count</th>\n",
       "    </tr>\n",
       "  </thead>\n",
       "  <tbody>\n",
       "    <tr>\n",
       "      <th>0</th>\n",
       "      <td>892420643555336193</td>\n",
       "      <td>7579</td>\n",
       "      <td>35813</td>\n",
       "    </tr>\n",
       "    <tr>\n",
       "      <th>1</th>\n",
       "      <td>892177421306343426</td>\n",
       "      <td>5620</td>\n",
       "      <td>30916</td>\n",
       "    </tr>\n",
       "    <tr>\n",
       "      <th>2</th>\n",
       "      <td>891815181378084864</td>\n",
       "      <td>3719</td>\n",
       "      <td>23260</td>\n",
       "    </tr>\n",
       "    <tr>\n",
       "      <th>3</th>\n",
       "      <td>891689557279858688</td>\n",
       "      <td>7764</td>\n",
       "      <td>39077</td>\n",
       "    </tr>\n",
       "    <tr>\n",
       "      <th>4</th>\n",
       "      <td>891327558926688256</td>\n",
       "      <td>8357</td>\n",
       "      <td>37333</td>\n",
       "    </tr>\n",
       "  </tbody>\n",
       "</table>\n",
       "</div>"
      ],
      "text/plain": [
       "             tweet_id  retweet_count  favorite_count\n",
       "0  892420643555336193           7579           35813\n",
       "1  892177421306343426           5620           30916\n",
       "2  891815181378084864           3719           23260\n",
       "3  891689557279858688           7764           39077\n",
       "4  891327558926688256           8357           37333"
      ]
     },
     "execution_count": 33,
     "metadata": {},
     "output_type": "execute_result"
    }
   ],
   "source": [
    "tweet_api = pd.read_json('tweet_json.txt')\n",
    "tweet_api['tweet_id'] = tweet_id_success\n",
    "tweet_api = tweet_api[['tweet_id', 'retweet_count', 'favorite_count']]\n",
    "\n",
    "tweet_api.head()"
   ]
  },
  {
   "cell_type": "markdown",
   "metadata": {},
   "source": [
    "# 2.0 Data Assessment"
   ]
  },
  {
   "cell_type": "code",
   "execution_count": 69,
   "metadata": {},
   "outputs": [
    {
     "data": {
      "text/html": [
       "<div>\n",
       "<style scoped>\n",
       "    .dataframe tbody tr th:only-of-type {\n",
       "        vertical-align: middle;\n",
       "    }\n",
       "\n",
       "    .dataframe tbody tr th {\n",
       "        vertical-align: top;\n",
       "    }\n",
       "\n",
       "    .dataframe thead th {\n",
       "        text-align: right;\n",
       "    }\n",
       "</style>\n",
       "<table border=\"1\" class=\"dataframe\">\n",
       "  <thead>\n",
       "    <tr style=\"text-align: right;\">\n",
       "      <th></th>\n",
       "      <th>tweet_id</th>\n",
       "      <th>in_reply_to_status_id</th>\n",
       "      <th>in_reply_to_user_id</th>\n",
       "      <th>timestamp</th>\n",
       "      <th>source</th>\n",
       "      <th>text</th>\n",
       "      <th>retweeted_status_id</th>\n",
       "      <th>retweeted_status_user_id</th>\n",
       "      <th>retweeted_status_timestamp</th>\n",
       "      <th>expanded_urls</th>\n",
       "      <th>rating_numerator</th>\n",
       "      <th>rating_denominator</th>\n",
       "      <th>name</th>\n",
       "      <th>doggo</th>\n",
       "      <th>floofer</th>\n",
       "      <th>pupper</th>\n",
       "      <th>puppo</th>\n",
       "    </tr>\n",
       "  </thead>\n",
       "  <tbody>\n",
       "    <tr>\n",
       "      <th>1717</th>\n",
       "      <td>680191257256136705</td>\n",
       "      <td>NaN</td>\n",
       "      <td>NaN</td>\n",
       "      <td>2015-12-25 01:00:07 +0000</td>\n",
       "      <td>&lt;a href=\"http://twitter.com/download/iphone\" r...</td>\n",
       "      <td>Here's a sleepy Christmas pupper 11/10 https:/...</td>\n",
       "      <td>NaN</td>\n",
       "      <td>NaN</td>\n",
       "      <td>NaN</td>\n",
       "      <td>https://twitter.com/dog_rates/status/680191257...</td>\n",
       "      <td>11</td>\n",
       "      <td>10</td>\n",
       "      <td>None</td>\n",
       "      <td>None</td>\n",
       "      <td>None</td>\n",
       "      <td>pupper</td>\n",
       "      <td>None</td>\n",
       "    </tr>\n",
       "    <tr>\n",
       "      <th>1592</th>\n",
       "      <td>686394059078897668</td>\n",
       "      <td>NaN</td>\n",
       "      <td>NaN</td>\n",
       "      <td>2016-01-11 03:47:50 +0000</td>\n",
       "      <td>&lt;a href=\"http://vine.co\" rel=\"nofollow\"&gt;Vine -...</td>\n",
       "      <td>This pup's having a nightmare that he forgot t...</td>\n",
       "      <td>NaN</td>\n",
       "      <td>NaN</td>\n",
       "      <td>NaN</td>\n",
       "      <td>https://vine.co/v/iMqBebnOvav</td>\n",
       "      <td>12</td>\n",
       "      <td>10</td>\n",
       "      <td>None</td>\n",
       "      <td>None</td>\n",
       "      <td>None</td>\n",
       "      <td>None</td>\n",
       "      <td>None</td>\n",
       "    </tr>\n",
       "    <tr>\n",
       "      <th>2336</th>\n",
       "      <td>666273097616637952</td>\n",
       "      <td>NaN</td>\n",
       "      <td>NaN</td>\n",
       "      <td>2015-11-16 15:14:19 +0000</td>\n",
       "      <td>&lt;a href=\"http://twitter.com/download/iphone\" r...</td>\n",
       "      <td>Can take selfies 11/10 https://t.co/ws2AMaNwPW</td>\n",
       "      <td>NaN</td>\n",
       "      <td>NaN</td>\n",
       "      <td>NaN</td>\n",
       "      <td>https://twitter.com/dog_rates/status/666273097...</td>\n",
       "      <td>11</td>\n",
       "      <td>10</td>\n",
       "      <td>None</td>\n",
       "      <td>None</td>\n",
       "      <td>None</td>\n",
       "      <td>None</td>\n",
       "      <td>None</td>\n",
       "    </tr>\n",
       "    <tr>\n",
       "      <th>1550</th>\n",
       "      <td>689154315265683456</td>\n",
       "      <td>NaN</td>\n",
       "      <td>NaN</td>\n",
       "      <td>2016-01-18 18:36:07 +0000</td>\n",
       "      <td>&lt;a href=\"http://twitter.com/download/iphone\" r...</td>\n",
       "      <td>We normally don't rate birds but I feel bad co...</td>\n",
       "      <td>NaN</td>\n",
       "      <td>NaN</td>\n",
       "      <td>NaN</td>\n",
       "      <td>https://twitter.com/dog_rates/status/689154315...</td>\n",
       "      <td>9</td>\n",
       "      <td>10</td>\n",
       "      <td>None</td>\n",
       "      <td>None</td>\n",
       "      <td>None</td>\n",
       "      <td>None</td>\n",
       "      <td>None</td>\n",
       "    </tr>\n",
       "    <tr>\n",
       "      <th>1507</th>\n",
       "      <td>691675652215414786</td>\n",
       "      <td>NaN</td>\n",
       "      <td>NaN</td>\n",
       "      <td>2016-01-25 17:35:00 +0000</td>\n",
       "      <td>&lt;a href=\"http://twitter.com/download/iphone\" r...</td>\n",
       "      <td>This is Richie and Plip. They are the best of ...</td>\n",
       "      <td>NaN</td>\n",
       "      <td>NaN</td>\n",
       "      <td>NaN</td>\n",
       "      <td>https://twitter.com/dog_rates/status/691675652...</td>\n",
       "      <td>10</td>\n",
       "      <td>10</td>\n",
       "      <td>Richie</td>\n",
       "      <td>None</td>\n",
       "      <td>None</td>\n",
       "      <td>None</td>\n",
       "      <td>None</td>\n",
       "    </tr>\n",
       "  </tbody>\n",
       "</table>\n",
       "</div>"
      ],
      "text/plain": [
       "                tweet_id  in_reply_to_status_id  in_reply_to_user_id  \\\n",
       "1717  680191257256136705                    NaN                  NaN   \n",
       "1592  686394059078897668                    NaN                  NaN   \n",
       "2336  666273097616637952                    NaN                  NaN   \n",
       "1550  689154315265683456                    NaN                  NaN   \n",
       "1507  691675652215414786                    NaN                  NaN   \n",
       "\n",
       "                      timestamp  \\\n",
       "1717  2015-12-25 01:00:07 +0000   \n",
       "1592  2016-01-11 03:47:50 +0000   \n",
       "2336  2015-11-16 15:14:19 +0000   \n",
       "1550  2016-01-18 18:36:07 +0000   \n",
       "1507  2016-01-25 17:35:00 +0000   \n",
       "\n",
       "                                                 source  \\\n",
       "1717  <a href=\"http://twitter.com/download/iphone\" r...   \n",
       "1592  <a href=\"http://vine.co\" rel=\"nofollow\">Vine -...   \n",
       "2336  <a href=\"http://twitter.com/download/iphone\" r...   \n",
       "1550  <a href=\"http://twitter.com/download/iphone\" r...   \n",
       "1507  <a href=\"http://twitter.com/download/iphone\" r...   \n",
       "\n",
       "                                                   text  retweeted_status_id  \\\n",
       "1717  Here's a sleepy Christmas pupper 11/10 https:/...                  NaN   \n",
       "1592  This pup's having a nightmare that he forgot t...                  NaN   \n",
       "2336     Can take selfies 11/10 https://t.co/ws2AMaNwPW                  NaN   \n",
       "1550  We normally don't rate birds but I feel bad co...                  NaN   \n",
       "1507  This is Richie and Plip. They are the best of ...                  NaN   \n",
       "\n",
       "      retweeted_status_user_id retweeted_status_timestamp  \\\n",
       "1717                       NaN                        NaN   \n",
       "1592                       NaN                        NaN   \n",
       "2336                       NaN                        NaN   \n",
       "1550                       NaN                        NaN   \n",
       "1507                       NaN                        NaN   \n",
       "\n",
       "                                          expanded_urls  rating_numerator  \\\n",
       "1717  https://twitter.com/dog_rates/status/680191257...                11   \n",
       "1592                      https://vine.co/v/iMqBebnOvav                12   \n",
       "2336  https://twitter.com/dog_rates/status/666273097...                11   \n",
       "1550  https://twitter.com/dog_rates/status/689154315...                 9   \n",
       "1507  https://twitter.com/dog_rates/status/691675652...                10   \n",
       "\n",
       "      rating_denominator    name doggo floofer  pupper puppo  \n",
       "1717                  10    None  None    None  pupper  None  \n",
       "1592                  10    None  None    None    None  None  \n",
       "2336                  10    None  None    None    None  None  \n",
       "1550                  10    None  None    None    None  None  \n",
       "1507                  10  Richie  None    None    None  None  "
      ]
     },
     "execution_count": 69,
     "metadata": {},
     "output_type": "execute_result"
    }
   ],
   "source": [
    "twitter_archive_enhanced.sample(5)"
   ]
  },
  {
   "cell_type": "code",
   "execution_count": 73,
   "metadata": {},
   "outputs": [
    {
     "data": {
      "text/plain": [
       "<a href=\"http://twitter.com/download/iphone\" rel=\"nofollow\">Twitter for iPhone</a>     2221\n",
       "<a href=\"http://vine.co\" rel=\"nofollow\">Vine - Make a Scene</a>                          91\n",
       "<a href=\"http://twitter.com\" rel=\"nofollow\">Twitter Web Client</a>                       33\n",
       "<a href=\"https://about.twitter.com/products/tweetdeck\" rel=\"nofollow\">TweetDeck</a>      11\n",
       "Name: source, dtype: int64"
      ]
     },
     "execution_count": 73,
     "metadata": {},
     "output_type": "execute_result"
    }
   ],
   "source": [
    "twitter_archive_enhanced.source.value_counts()"
   ]
  },
  {
   "cell_type": "code",
   "execution_count": 40,
   "metadata": {},
   "outputs": [
    {
     "name": "stdout",
     "output_type": "stream",
     "text": [
      "<class 'pandas.core.frame.DataFrame'>\n",
      "RangeIndex: 2356 entries, 0 to 2355\n",
      "Data columns (total 17 columns):\n",
      " #   Column                      Non-Null Count  Dtype  \n",
      "---  ------                      --------------  -----  \n",
      " 0   tweet_id                    2356 non-null   int64  \n",
      " 1   in_reply_to_status_id       78 non-null     float64\n",
      " 2   in_reply_to_user_id         78 non-null     float64\n",
      " 3   timestamp                   2356 non-null   object \n",
      " 4   source                      2356 non-null   object \n",
      " 5   text                        2356 non-null   object \n",
      " 6   retweeted_status_id         181 non-null    float64\n",
      " 7   retweeted_status_user_id    181 non-null    float64\n",
      " 8   retweeted_status_timestamp  181 non-null    object \n",
      " 9   expanded_urls               2297 non-null   object \n",
      " 10  rating_numerator            2356 non-null   int64  \n",
      " 11  rating_denominator          2356 non-null   int64  \n",
      " 12  name                        2356 non-null   object \n",
      " 13  doggo                       2356 non-null   object \n",
      " 14  floofer                     2356 non-null   object \n",
      " 15  pupper                      2356 non-null   object \n",
      " 16  puppo                       2356 non-null   object \n",
      "dtypes: float64(4), int64(3), object(10)\n",
      "memory usage: 313.0+ KB\n"
     ]
    }
   ],
   "source": [
    "twitter_archive_enhanced.info()"
   ]
  },
  {
   "cell_type": "code",
   "execution_count": 50,
   "metadata": {},
   "outputs": [
    {
     "data": {
      "text/plain": [
       "False"
      ]
     },
     "execution_count": 50,
     "metadata": {},
     "output_type": "execute_result"
    }
   ],
   "source": [
    "twitter_archive_enhanced['tweet_id'].duplicated().any()"
   ]
  },
  {
   "cell_type": "code",
   "execution_count": 51,
   "metadata": {},
   "outputs": [
    {
     "data": {
      "text/plain": [
       "10     2333\n",
       "11        3\n",
       "50        3\n",
       "80        2\n",
       "20        2\n",
       "2         1\n",
       "16        1\n",
       "40        1\n",
       "70        1\n",
       "15        1\n",
       "90        1\n",
       "110       1\n",
       "120       1\n",
       "130       1\n",
       "150       1\n",
       "170       1\n",
       "7         1\n",
       "0         1\n",
       "Name: rating_denominator, dtype: int64"
      ]
     },
     "execution_count": 51,
     "metadata": {},
     "output_type": "execute_result"
    }
   ],
   "source": [
    "twitter_archive_enhanced['rating_denominator'].value_counts()"
   ]
  },
  {
   "cell_type": "code",
   "execution_count": 52,
   "metadata": {},
   "outputs": [
    {
     "data": {
      "text/plain": [
       "12      558\n",
       "11      464\n",
       "10      461\n",
       "13      351\n",
       "9       158\n",
       "8       102\n",
       "7        55\n",
       "14       54\n",
       "5        37\n",
       "6        32\n",
       "3        19\n",
       "4        17\n",
       "1         9\n",
       "2         9\n",
       "420       2\n",
       "0         2\n",
       "15        2\n",
       "75        2\n",
       "80        1\n",
       "20        1\n",
       "24        1\n",
       "26        1\n",
       "44        1\n",
       "50        1\n",
       "60        1\n",
       "165       1\n",
       "84        1\n",
       "88        1\n",
       "144       1\n",
       "182       1\n",
       "143       1\n",
       "666       1\n",
       "960       1\n",
       "1776      1\n",
       "17        1\n",
       "27        1\n",
       "45        1\n",
       "99        1\n",
       "121       1\n",
       "204       1\n",
       "Name: rating_numerator, dtype: int64"
      ]
     },
     "execution_count": 52,
     "metadata": {},
     "output_type": "execute_result"
    }
   ],
   "source": [
    "twitter_archive_enhanced['rating_numerator'].value_counts()"
   ]
  },
  {
   "cell_type": "code",
   "execution_count": 66,
   "metadata": {},
   "outputs": [
    {
     "data": {
      "text/plain": [
       "None       745\n",
       "a           55\n",
       "Charlie     12\n",
       "Oliver      11\n",
       "Cooper      11\n",
       "Lucy        11\n",
       "Penny       10\n",
       "Tucker      10\n",
       "Lola        10\n",
       "Bo           9\n",
       "Winston      9\n",
       "the          8\n",
       "Sadie        8\n",
       "an           7\n",
       "Bailey       7\n",
       "Buddy        7\n",
       "Toby         7\n",
       "Daisy        7\n",
       "Bella        6\n",
       "Rusty        6\n",
       "Name: name, dtype: int64"
      ]
     },
     "execution_count": 66,
     "metadata": {},
     "output_type": "execute_result"
    }
   ],
   "source": [
    "twitter_archive_enhanced['name'].value_counts().head(20)"
   ]
  },
  {
   "cell_type": "code",
   "execution_count": 67,
   "metadata": {},
   "outputs": [
    {
     "data": {
      "text/plain": [
       "Smiley       1\n",
       "Trip         1\n",
       "Kellogg      1\n",
       "Lupe         1\n",
       "Pherb        1\n",
       "Aldrick      1\n",
       "O            1\n",
       "Timber       1\n",
       "Colin        1\n",
       "Vinnie       1\n",
       "Goose        1\n",
       "Jackie       1\n",
       "Lucky        1\n",
       "Linus        1\n",
       "Ridley       1\n",
       "Bloo         1\n",
       "Jonah        1\n",
       "Shnuggles    1\n",
       "Snickers     1\n",
       "Rodney       1\n",
       "Name: name, dtype: int64"
      ]
     },
     "execution_count": 67,
     "metadata": {},
     "output_type": "execute_result"
    }
   ],
   "source": [
    "twitter_archive_enhanced['name'].value_counts().tail(20)"
   ]
  },
  {
   "cell_type": "code",
   "execution_count": 54,
   "metadata": {},
   "outputs": [
    {
     "data": {
      "text/html": [
       "<div>\n",
       "<style scoped>\n",
       "    .dataframe tbody tr th:only-of-type {\n",
       "        vertical-align: middle;\n",
       "    }\n",
       "\n",
       "    .dataframe tbody tr th {\n",
       "        vertical-align: top;\n",
       "    }\n",
       "\n",
       "    .dataframe thead th {\n",
       "        text-align: right;\n",
       "    }\n",
       "</style>\n",
       "<table border=\"1\" class=\"dataframe\">\n",
       "  <thead>\n",
       "    <tr style=\"text-align: right;\">\n",
       "      <th></th>\n",
       "      <th>tweet_id</th>\n",
       "      <th>jpg_url</th>\n",
       "      <th>img_num</th>\n",
       "      <th>p1</th>\n",
       "      <th>p1_conf</th>\n",
       "      <th>p1_dog</th>\n",
       "      <th>p2</th>\n",
       "      <th>p2_conf</th>\n",
       "      <th>p2_dog</th>\n",
       "      <th>p3</th>\n",
       "      <th>p3_conf</th>\n",
       "      <th>p3_dog</th>\n",
       "    </tr>\n",
       "  </thead>\n",
       "  <tbody>\n",
       "    <tr>\n",
       "      <th>0</th>\n",
       "      <td>666020888022790149</td>\n",
       "      <td>https://pbs.twimg.com/media/CT4udn0WwAA0aMy.jpg</td>\n",
       "      <td>1</td>\n",
       "      <td>Welsh_springer_spaniel</td>\n",
       "      <td>0.465074</td>\n",
       "      <td>True</td>\n",
       "      <td>collie</td>\n",
       "      <td>0.156665</td>\n",
       "      <td>True</td>\n",
       "      <td>Shetland_sheepdog</td>\n",
       "      <td>0.061428</td>\n",
       "      <td>True</td>\n",
       "    </tr>\n",
       "    <tr>\n",
       "      <th>1</th>\n",
       "      <td>666029285002620928</td>\n",
       "      <td>https://pbs.twimg.com/media/CT42GRgUYAA5iDo.jpg</td>\n",
       "      <td>1</td>\n",
       "      <td>redbone</td>\n",
       "      <td>0.506826</td>\n",
       "      <td>True</td>\n",
       "      <td>miniature_pinscher</td>\n",
       "      <td>0.074192</td>\n",
       "      <td>True</td>\n",
       "      <td>Rhodesian_ridgeback</td>\n",
       "      <td>0.072010</td>\n",
       "      <td>True</td>\n",
       "    </tr>\n",
       "    <tr>\n",
       "      <th>2</th>\n",
       "      <td>666033412701032449</td>\n",
       "      <td>https://pbs.twimg.com/media/CT4521TWwAEvMyu.jpg</td>\n",
       "      <td>1</td>\n",
       "      <td>German_shepherd</td>\n",
       "      <td>0.596461</td>\n",
       "      <td>True</td>\n",
       "      <td>malinois</td>\n",
       "      <td>0.138584</td>\n",
       "      <td>True</td>\n",
       "      <td>bloodhound</td>\n",
       "      <td>0.116197</td>\n",
       "      <td>True</td>\n",
       "    </tr>\n",
       "    <tr>\n",
       "      <th>3</th>\n",
       "      <td>666044226329800704</td>\n",
       "      <td>https://pbs.twimg.com/media/CT5Dr8HUEAA-lEu.jpg</td>\n",
       "      <td>1</td>\n",
       "      <td>Rhodesian_ridgeback</td>\n",
       "      <td>0.408143</td>\n",
       "      <td>True</td>\n",
       "      <td>redbone</td>\n",
       "      <td>0.360687</td>\n",
       "      <td>True</td>\n",
       "      <td>miniature_pinscher</td>\n",
       "      <td>0.222752</td>\n",
       "      <td>True</td>\n",
       "    </tr>\n",
       "    <tr>\n",
       "      <th>4</th>\n",
       "      <td>666049248165822465</td>\n",
       "      <td>https://pbs.twimg.com/media/CT5IQmsXIAAKY4A.jpg</td>\n",
       "      <td>1</td>\n",
       "      <td>miniature_pinscher</td>\n",
       "      <td>0.560311</td>\n",
       "      <td>True</td>\n",
       "      <td>Rottweiler</td>\n",
       "      <td>0.243682</td>\n",
       "      <td>True</td>\n",
       "      <td>Doberman</td>\n",
       "      <td>0.154629</td>\n",
       "      <td>True</td>\n",
       "    </tr>\n",
       "  </tbody>\n",
       "</table>\n",
       "</div>"
      ],
      "text/plain": [
       "             tweet_id                                          jpg_url  \\\n",
       "0  666020888022790149  https://pbs.twimg.com/media/CT4udn0WwAA0aMy.jpg   \n",
       "1  666029285002620928  https://pbs.twimg.com/media/CT42GRgUYAA5iDo.jpg   \n",
       "2  666033412701032449  https://pbs.twimg.com/media/CT4521TWwAEvMyu.jpg   \n",
       "3  666044226329800704  https://pbs.twimg.com/media/CT5Dr8HUEAA-lEu.jpg   \n",
       "4  666049248165822465  https://pbs.twimg.com/media/CT5IQmsXIAAKY4A.jpg   \n",
       "\n",
       "   img_num                      p1   p1_conf  p1_dog                  p2  \\\n",
       "0        1  Welsh_springer_spaniel  0.465074    True              collie   \n",
       "1        1                 redbone  0.506826    True  miniature_pinscher   \n",
       "2        1         German_shepherd  0.596461    True            malinois   \n",
       "3        1     Rhodesian_ridgeback  0.408143    True             redbone   \n",
       "4        1      miniature_pinscher  0.560311    True          Rottweiler   \n",
       "\n",
       "    p2_conf  p2_dog                   p3   p3_conf  p3_dog  \n",
       "0  0.156665    True    Shetland_sheepdog  0.061428    True  \n",
       "1  0.074192    True  Rhodesian_ridgeback  0.072010    True  \n",
       "2  0.138584    True           bloodhound  0.116197    True  \n",
       "3  0.360687    True   miniature_pinscher  0.222752    True  \n",
       "4  0.243682    True             Doberman  0.154629    True  "
      ]
     },
     "execution_count": 54,
     "metadata": {},
     "output_type": "execute_result"
    }
   ],
   "source": [
    "image_predictions.head()"
   ]
  },
  {
   "cell_type": "code",
   "execution_count": 55,
   "metadata": {},
   "outputs": [
    {
     "name": "stdout",
     "output_type": "stream",
     "text": [
      "<class 'pandas.core.frame.DataFrame'>\n",
      "RangeIndex: 2075 entries, 0 to 2074\n",
      "Data columns (total 12 columns):\n",
      " #   Column    Non-Null Count  Dtype  \n",
      "---  ------    --------------  -----  \n",
      " 0   tweet_id  2075 non-null   int64  \n",
      " 1   jpg_url   2075 non-null   object \n",
      " 2   img_num   2075 non-null   int64  \n",
      " 3   p1        2075 non-null   object \n",
      " 4   p1_conf   2075 non-null   float64\n",
      " 5   p1_dog    2075 non-null   bool   \n",
      " 6   p2        2075 non-null   object \n",
      " 7   p2_conf   2075 non-null   float64\n",
      " 8   p2_dog    2075 non-null   bool   \n",
      " 9   p3        2075 non-null   object \n",
      " 10  p3_conf   2075 non-null   float64\n",
      " 11  p3_dog    2075 non-null   bool   \n",
      "dtypes: bool(3), float64(3), int64(2), object(4)\n",
      "memory usage: 152.1+ KB\n"
     ]
    }
   ],
   "source": [
    "image_predictions.info()"
   ]
  },
  {
   "cell_type": "code",
   "execution_count": 56,
   "metadata": {},
   "outputs": [
    {
     "data": {
      "text/plain": [
       "False"
      ]
     },
     "execution_count": 56,
     "metadata": {},
     "output_type": "execute_result"
    }
   ],
   "source": [
    "image_predictions.tweet_id.duplicated().any()"
   ]
  },
  {
   "cell_type": "code",
   "execution_count": 58,
   "metadata": {},
   "outputs": [
    {
     "data": {
      "text/plain": [
       "golden_retriever      150\n",
       "Labrador_retriever    100\n",
       "Pembroke               89\n",
       "Chihuahua              83\n",
       "pug                    57\n",
       "                     ... \n",
       "conch                   1\n",
       "guenon                  1\n",
       "hammer                  1\n",
       "studio_couch            1\n",
       "killer_whale            1\n",
       "Name: p1, Length: 378, dtype: int64"
      ]
     },
     "execution_count": 58,
     "metadata": {},
     "output_type": "execute_result"
    }
   ],
   "source": [
    "image_predictions['p1'].value_counts()"
   ]
  },
  {
   "cell_type": "code",
   "execution_count": 61,
   "metadata": {},
   "outputs": [
    {
     "data": {
      "text/plain": [
       "golden_retriever      150\n",
       "Labrador_retriever    100\n",
       "Pembroke               89\n",
       "Chihuahua              83\n",
       "pug                    57\n",
       "                     ... \n",
       "conch                   1\n",
       "guenon                  1\n",
       "hammer                  1\n",
       "studio_couch            1\n",
       "killer_whale            1\n",
       "Name: p1, Length: 378, dtype: int64"
      ]
     },
     "execution_count": 61,
     "metadata": {},
     "output_type": "execute_result"
    }
   ],
   "source": [
    "image_predictions['p1'].value_counts()"
   ]
  },
  {
   "cell_type": "code",
   "execution_count": 62,
   "metadata": {},
   "outputs": [
    {
     "data": {
      "text/html": [
       "<div>\n",
       "<style scoped>\n",
       "    .dataframe tbody tr th:only-of-type {\n",
       "        vertical-align: middle;\n",
       "    }\n",
       "\n",
       "    .dataframe tbody tr th {\n",
       "        vertical-align: top;\n",
       "    }\n",
       "\n",
       "    .dataframe thead th {\n",
       "        text-align: right;\n",
       "    }\n",
       "</style>\n",
       "<table border=\"1\" class=\"dataframe\">\n",
       "  <thead>\n",
       "    <tr style=\"text-align: right;\">\n",
       "      <th></th>\n",
       "      <th>tweet_id</th>\n",
       "      <th>retweet_count</th>\n",
       "      <th>favorite_count</th>\n",
       "    </tr>\n",
       "  </thead>\n",
       "  <tbody>\n",
       "    <tr>\n",
       "      <th>0</th>\n",
       "      <td>892420643555336193</td>\n",
       "      <td>7579</td>\n",
       "      <td>35813</td>\n",
       "    </tr>\n",
       "    <tr>\n",
       "      <th>1</th>\n",
       "      <td>892177421306343426</td>\n",
       "      <td>5620</td>\n",
       "      <td>30916</td>\n",
       "    </tr>\n",
       "    <tr>\n",
       "      <th>2</th>\n",
       "      <td>891815181378084864</td>\n",
       "      <td>3719</td>\n",
       "      <td>23260</td>\n",
       "    </tr>\n",
       "    <tr>\n",
       "      <th>3</th>\n",
       "      <td>891689557279858688</td>\n",
       "      <td>7764</td>\n",
       "      <td>39077</td>\n",
       "    </tr>\n",
       "    <tr>\n",
       "      <th>4</th>\n",
       "      <td>891327558926688256</td>\n",
       "      <td>8357</td>\n",
       "      <td>37333</td>\n",
       "    </tr>\n",
       "  </tbody>\n",
       "</table>\n",
       "</div>"
      ],
      "text/plain": [
       "             tweet_id  retweet_count  favorite_count\n",
       "0  892420643555336193           7579           35813\n",
       "1  892177421306343426           5620           30916\n",
       "2  891815181378084864           3719           23260\n",
       "3  891689557279858688           7764           39077\n",
       "4  891327558926688256           8357           37333"
      ]
     },
     "execution_count": 62,
     "metadata": {},
     "output_type": "execute_result"
    }
   ],
   "source": [
    "tweet_api.head()"
   ]
  },
  {
   "cell_type": "code",
   "execution_count": 63,
   "metadata": {},
   "outputs": [
    {
     "name": "stdout",
     "output_type": "stream",
     "text": [
      "<class 'pandas.core.frame.DataFrame'>\n",
      "RangeIndex: 2329 entries, 0 to 2328\n",
      "Data columns (total 3 columns):\n",
      " #   Column          Non-Null Count  Dtype\n",
      "---  ------          --------------  -----\n",
      " 0   tweet_id        2329 non-null   int64\n",
      " 1   retweet_count   2329 non-null   int64\n",
      " 2   favorite_count  2329 non-null   int64\n",
      "dtypes: int64(3)\n",
      "memory usage: 54.7 KB\n"
     ]
    }
   ],
   "source": [
    "tweet_api.info()"
   ]
  },
  {
   "cell_type": "code",
   "execution_count": 64,
   "metadata": {},
   "outputs": [
    {
     "data": {
      "text/plain": [
       "False"
      ]
     },
     "execution_count": 64,
     "metadata": {},
     "output_type": "execute_result"
    }
   ],
   "source": [
    "tweet_api.tweet_id.duplicated().any()"
   ]
  },
  {
   "cell_type": "markdown",
   "metadata": {},
   "source": [
    "### Quality issues\n",
    "WeRateDogs Twitter archive:\n",
    "- timestamp: wrong data type (string --> timestamp)\n",
    "- tweet_id: wrong data type (int --> string)\n",
    "- rating_numerator, rating_denominator ratings: ratings are not accurate / have different ranges and should be normed\n",
    "- name: many \"none\" names as well as lower case, incorrect words like \"a\" and \"an\" \n",
    "- p1, p2, p3: inconsistent spelling of dog types\n",
    "- retweeted_status_id: retweeted tweets are an issue, since we are just interested in the original tweets\n",
    "- reply_to_status_id: replied tweets are an issue, since we are just interested in the original tweets\n",
    "- source: too complicated, can be displayed easier for the 4 possible values\n",
    "\n"
   ]
  },
  {
   "cell_type": "markdown",
   "metadata": {},
   "source": [
    "### Tidiness issues\n",
    "- rating_numerator and rating_denominator can be combined into one column (for a better comparison)\n",
    "- 4 dog stage columns (doggo, floofer, ...) are categorical data and should thus be put into one column\n",
    "- tables could be merged via the tweet_id\n",
    "- drop columns that are not used for analysis (retweet and reply columns)"
   ]
  },
  {
   "cell_type": "markdown",
   "metadata": {},
   "source": [
    "# 3.0 Cleaning Data"
   ]
  },
  {
   "cell_type": "markdown",
   "metadata": {},
   "source": [
    "Make a copy before cleaning the data"
   ]
  },
  {
   "cell_type": "code",
   "execution_count": 180,
   "metadata": {},
   "outputs": [],
   "source": [
    "twitter_archive_clean = twitter_archive_enhanced.copy()\n",
    "image_predictions_clean = image_predictions.copy()\n",
    "tweet_api_clean = tweet_api.copy()"
   ]
  },
  {
   "cell_type": "markdown",
   "metadata": {},
   "source": [
    "### Quality Issue no. 1: Timestamp - change data type"
   ]
  },
  {
   "cell_type": "markdown",
   "metadata": {},
   "source": [
    "### Define:\n",
    " Remove last 4 zeros and + sign (5 places in total) and change timestamp values to datetime data type."
   ]
  },
  {
   "cell_type": "markdown",
   "metadata": {},
   "source": [
    "### Code:"
   ]
  },
  {
   "cell_type": "code",
   "execution_count": 181,
   "metadata": {},
   "outputs": [],
   "source": [
    "twitter_archive_clean.timestamp = twitter_archive_clean.timestamp.astype('str').str[:-5].astype('datetime64')"
   ]
  },
  {
   "cell_type": "markdown",
   "metadata": {},
   "source": [
    "### Test:"
   ]
  },
  {
   "cell_type": "code",
   "execution_count": 182,
   "metadata": {},
   "outputs": [
    {
     "name": "stdout",
     "output_type": "stream",
     "text": [
      "<class 'pandas.core.frame.DataFrame'>\n",
      "RangeIndex: 2356 entries, 0 to 2355\n",
      "Data columns (total 17 columns):\n",
      " #   Column                      Non-Null Count  Dtype         \n",
      "---  ------                      --------------  -----         \n",
      " 0   tweet_id                    2356 non-null   int64         \n",
      " 1   in_reply_to_status_id       78 non-null     float64       \n",
      " 2   in_reply_to_user_id         78 non-null     float64       \n",
      " 3   timestamp                   2356 non-null   datetime64[ns]\n",
      " 4   source                      2356 non-null   object        \n",
      " 5   text                        2356 non-null   object        \n",
      " 6   retweeted_status_id         181 non-null    float64       \n",
      " 7   retweeted_status_user_id    181 non-null    float64       \n",
      " 8   retweeted_status_timestamp  181 non-null    object        \n",
      " 9   expanded_urls               2297 non-null   object        \n",
      " 10  rating_numerator            2356 non-null   int64         \n",
      " 11  rating_denominator          2356 non-null   int64         \n",
      " 12  name                        2356 non-null   object        \n",
      " 13  doggo                       2356 non-null   object        \n",
      " 14  floofer                     2356 non-null   object        \n",
      " 15  pupper                      2356 non-null   object        \n",
      " 16  puppo                       2356 non-null   object        \n",
      "dtypes: datetime64[ns](1), float64(4), int64(3), object(9)\n",
      "memory usage: 313.0+ KB\n"
     ]
    }
   ],
   "source": [
    "twitter_archive_clean.info()"
   ]
  },
  {
   "cell_type": "code",
   "execution_count": 183,
   "metadata": {},
   "outputs": [
    {
     "data": {
      "text/html": [
       "<div>\n",
       "<style scoped>\n",
       "    .dataframe tbody tr th:only-of-type {\n",
       "        vertical-align: middle;\n",
       "    }\n",
       "\n",
       "    .dataframe tbody tr th {\n",
       "        vertical-align: top;\n",
       "    }\n",
       "\n",
       "    .dataframe thead th {\n",
       "        text-align: right;\n",
       "    }\n",
       "</style>\n",
       "<table border=\"1\" class=\"dataframe\">\n",
       "  <thead>\n",
       "    <tr style=\"text-align: right;\">\n",
       "      <th></th>\n",
       "      <th>tweet_id</th>\n",
       "      <th>in_reply_to_status_id</th>\n",
       "      <th>in_reply_to_user_id</th>\n",
       "      <th>timestamp</th>\n",
       "      <th>source</th>\n",
       "      <th>text</th>\n",
       "      <th>retweeted_status_id</th>\n",
       "      <th>retweeted_status_user_id</th>\n",
       "      <th>retweeted_status_timestamp</th>\n",
       "      <th>expanded_urls</th>\n",
       "      <th>rating_numerator</th>\n",
       "      <th>rating_denominator</th>\n",
       "      <th>name</th>\n",
       "      <th>doggo</th>\n",
       "      <th>floofer</th>\n",
       "      <th>pupper</th>\n",
       "      <th>puppo</th>\n",
       "    </tr>\n",
       "  </thead>\n",
       "  <tbody>\n",
       "    <tr>\n",
       "      <th>0</th>\n",
       "      <td>892420643555336193</td>\n",
       "      <td>NaN</td>\n",
       "      <td>NaN</td>\n",
       "      <td>2017-08-01 16:23:56</td>\n",
       "      <td>&lt;a href=\"http://twitter.com/download/iphone\" r...</td>\n",
       "      <td>This is Phineas. He's a mystical boy. Only eve...</td>\n",
       "      <td>NaN</td>\n",
       "      <td>NaN</td>\n",
       "      <td>NaN</td>\n",
       "      <td>https://twitter.com/dog_rates/status/892420643...</td>\n",
       "      <td>13</td>\n",
       "      <td>10</td>\n",
       "      <td>Phineas</td>\n",
       "      <td>None</td>\n",
       "      <td>None</td>\n",
       "      <td>None</td>\n",
       "      <td>None</td>\n",
       "    </tr>\n",
       "  </tbody>\n",
       "</table>\n",
       "</div>"
      ],
      "text/plain": [
       "             tweet_id  in_reply_to_status_id  in_reply_to_user_id  \\\n",
       "0  892420643555336193                    NaN                  NaN   \n",
       "\n",
       "            timestamp                                             source  \\\n",
       "0 2017-08-01 16:23:56  <a href=\"http://twitter.com/download/iphone\" r...   \n",
       "\n",
       "                                                text  retweeted_status_id  \\\n",
       "0  This is Phineas. He's a mystical boy. Only eve...                  NaN   \n",
       "\n",
       "   retweeted_status_user_id retweeted_status_timestamp  \\\n",
       "0                       NaN                        NaN   \n",
       "\n",
       "                                       expanded_urls  rating_numerator  \\\n",
       "0  https://twitter.com/dog_rates/status/892420643...                13   \n",
       "\n",
       "   rating_denominator     name doggo floofer pupper puppo  \n",
       "0                  10  Phineas  None    None   None  None  "
      ]
     },
     "execution_count": 183,
     "metadata": {},
     "output_type": "execute_result"
    }
   ],
   "source": [
    "twitter_archive_clean.head(1)"
   ]
  },
  {
   "cell_type": "markdown",
   "metadata": {},
   "source": [
    "### Tidiness Issue no. 1: Merge data-frames based on common tweet_id"
   ]
  },
  {
   "cell_type": "markdown",
   "metadata": {},
   "source": [
    "### Define:\n",
    "Merge dataframes basedn on same tweet_id"
   ]
  },
  {
   "cell_type": "markdown",
   "metadata": {},
   "source": [
    "### Code:\n"
   ]
  },
  {
   "cell_type": "code",
   "execution_count": 184,
   "metadata": {},
   "outputs": [],
   "source": [
    "from functools import reduce\n",
    "\n",
    "data_frames = [twitter_archive_clean, image_predictions_clean, tweet_api_clean]\n",
    "\n",
    "\n",
    "df_merged = reduce(lambda  left,right: pd.merge(left,right,on=['tweet_id'], how='inner'), data_frames)"
   ]
  },
  {
   "cell_type": "markdown",
   "metadata": {},
   "source": [
    "### Test:"
   ]
  },
  {
   "cell_type": "code",
   "execution_count": 185,
   "metadata": {},
   "outputs": [
    {
     "name": "stdout",
     "output_type": "stream",
     "text": [
      "<class 'pandas.core.frame.DataFrame'>\n",
      "Int64Index: 2057 entries, 0 to 2056\n",
      "Data columns (total 30 columns):\n",
      " #   Column                      Non-Null Count  Dtype         \n",
      "---  ------                      --------------  -----         \n",
      " 0   tweet_id                    2057 non-null   int64         \n",
      " 1   in_reply_to_status_id       23 non-null     float64       \n",
      " 2   in_reply_to_user_id         23 non-null     float64       \n",
      " 3   timestamp                   2057 non-null   datetime64[ns]\n",
      " 4   source                      2057 non-null   object        \n",
      " 5   text                        2057 non-null   object        \n",
      " 6   retweeted_status_id         72 non-null     float64       \n",
      " 7   retweeted_status_user_id    72 non-null     float64       \n",
      " 8   retweeted_status_timestamp  72 non-null     object        \n",
      " 9   expanded_urls               2057 non-null   object        \n",
      " 10  rating_numerator            2057 non-null   int64         \n",
      " 11  rating_denominator          2057 non-null   int64         \n",
      " 12  name                        2057 non-null   object        \n",
      " 13  doggo                       2057 non-null   object        \n",
      " 14  floofer                     2057 non-null   object        \n",
      " 15  pupper                      2057 non-null   object        \n",
      " 16  puppo                       2057 non-null   object        \n",
      " 17  jpg_url                     2057 non-null   object        \n",
      " 18  img_num                     2057 non-null   int64         \n",
      " 19  p1                          2057 non-null   object        \n",
      " 20  p1_conf                     2057 non-null   float64       \n",
      " 21  p1_dog                      2057 non-null   bool          \n",
      " 22  p2                          2057 non-null   object        \n",
      " 23  p2_conf                     2057 non-null   float64       \n",
      " 24  p2_dog                      2057 non-null   bool          \n",
      " 25  p3                          2057 non-null   object        \n",
      " 26  p3_conf                     2057 non-null   float64       \n",
      " 27  p3_dog                      2057 non-null   bool          \n",
      " 28  retweet_count               2057 non-null   int64         \n",
      " 29  favorite_count              2057 non-null   int64         \n",
      "dtypes: bool(3), datetime64[ns](1), float64(7), int64(6), object(13)\n",
      "memory usage: 456.0+ KB\n"
     ]
    }
   ],
   "source": [
    "df_merged.info()"
   ]
  },
  {
   "cell_type": "markdown",
   "metadata": {},
   "source": [
    "### Quality Issue no. 2: remove retweet-related rows"
   ]
  },
  {
   "cell_type": "markdown",
   "metadata": {},
   "source": [
    "### Define:\n",
    "Since we're only interested in original tweets we can get rid off these values and columns."
   ]
  },
  {
   "cell_type": "markdown",
   "metadata": {},
   "source": [
    "### Code:"
   ]
  },
  {
   "cell_type": "code",
   "execution_count": 186,
   "metadata": {},
   "outputs": [],
   "source": [
    "df_merged = df_merged[df_merged.retweeted_status_id.isna()]"
   ]
  },
  {
   "cell_type": "markdown",
   "metadata": {},
   "source": [
    "### Test:"
   ]
  },
  {
   "cell_type": "code",
   "execution_count": 187,
   "metadata": {},
   "outputs": [
    {
     "name": "stdout",
     "output_type": "stream",
     "text": [
      "<class 'pandas.core.frame.DataFrame'>\n",
      "Int64Index: 1985 entries, 0 to 2056\n",
      "Data columns (total 30 columns):\n",
      " #   Column                      Non-Null Count  Dtype         \n",
      "---  ------                      --------------  -----         \n",
      " 0   tweet_id                    1985 non-null   int64         \n",
      " 1   in_reply_to_status_id       23 non-null     float64       \n",
      " 2   in_reply_to_user_id         23 non-null     float64       \n",
      " 3   timestamp                   1985 non-null   datetime64[ns]\n",
      " 4   source                      1985 non-null   object        \n",
      " 5   text                        1985 non-null   object        \n",
      " 6   retweeted_status_id         0 non-null      float64       \n",
      " 7   retweeted_status_user_id    0 non-null      float64       \n",
      " 8   retweeted_status_timestamp  0 non-null      object        \n",
      " 9   expanded_urls               1985 non-null   object        \n",
      " 10  rating_numerator            1985 non-null   int64         \n",
      " 11  rating_denominator          1985 non-null   int64         \n",
      " 12  name                        1985 non-null   object        \n",
      " 13  doggo                       1985 non-null   object        \n",
      " 14  floofer                     1985 non-null   object        \n",
      " 15  pupper                      1985 non-null   object        \n",
      " 16  puppo                       1985 non-null   object        \n",
      " 17  jpg_url                     1985 non-null   object        \n",
      " 18  img_num                     1985 non-null   int64         \n",
      " 19  p1                          1985 non-null   object        \n",
      " 20  p1_conf                     1985 non-null   float64       \n",
      " 21  p1_dog                      1985 non-null   bool          \n",
      " 22  p2                          1985 non-null   object        \n",
      " 23  p2_conf                     1985 non-null   float64       \n",
      " 24  p2_dog                      1985 non-null   bool          \n",
      " 25  p3                          1985 non-null   object        \n",
      " 26  p3_conf                     1985 non-null   float64       \n",
      " 27  p3_dog                      1985 non-null   bool          \n",
      " 28  retweet_count               1985 non-null   int64         \n",
      " 29  favorite_count              1985 non-null   int64         \n",
      "dtypes: bool(3), datetime64[ns](1), float64(7), int64(6), object(13)\n",
      "memory usage: 440.0+ KB\n"
     ]
    }
   ],
   "source": [
    "df_merged.info()"
   ]
  },
  {
   "cell_type": "markdown",
   "metadata": {},
   "source": [
    "### Quality Issue no. 3: remove reply-related rows"
   ]
  },
  {
   "cell_type": "markdown",
   "metadata": {},
   "source": [
    "### Define:\n",
    "Since we're only interested in original tweets we can get rid off these values and columns."
   ]
  },
  {
   "cell_type": "markdown",
   "metadata": {},
   "source": [
    "### Code:"
   ]
  },
  {
   "cell_type": "code",
   "execution_count": 188,
   "metadata": {},
   "outputs": [],
   "source": [
    "df_merged = df_merged[df_merged.in_reply_to_status_id.isna()]"
   ]
  },
  {
   "cell_type": "markdown",
   "metadata": {},
   "source": [
    "### Test:"
   ]
  },
  {
   "cell_type": "code",
   "execution_count": 189,
   "metadata": {},
   "outputs": [
    {
     "name": "stdout",
     "output_type": "stream",
     "text": [
      "<class 'pandas.core.frame.DataFrame'>\n",
      "Int64Index: 1962 entries, 0 to 2056\n",
      "Data columns (total 30 columns):\n",
      " #   Column                      Non-Null Count  Dtype         \n",
      "---  ------                      --------------  -----         \n",
      " 0   tweet_id                    1962 non-null   int64         \n",
      " 1   in_reply_to_status_id       0 non-null      float64       \n",
      " 2   in_reply_to_user_id         0 non-null      float64       \n",
      " 3   timestamp                   1962 non-null   datetime64[ns]\n",
      " 4   source                      1962 non-null   object        \n",
      " 5   text                        1962 non-null   object        \n",
      " 6   retweeted_status_id         0 non-null      float64       \n",
      " 7   retweeted_status_user_id    0 non-null      float64       \n",
      " 8   retweeted_status_timestamp  0 non-null      object        \n",
      " 9   expanded_urls               1962 non-null   object        \n",
      " 10  rating_numerator            1962 non-null   int64         \n",
      " 11  rating_denominator          1962 non-null   int64         \n",
      " 12  name                        1962 non-null   object        \n",
      " 13  doggo                       1962 non-null   object        \n",
      " 14  floofer                     1962 non-null   object        \n",
      " 15  pupper                      1962 non-null   object        \n",
      " 16  puppo                       1962 non-null   object        \n",
      " 17  jpg_url                     1962 non-null   object        \n",
      " 18  img_num                     1962 non-null   int64         \n",
      " 19  p1                          1962 non-null   object        \n",
      " 20  p1_conf                     1962 non-null   float64       \n",
      " 21  p1_dog                      1962 non-null   bool          \n",
      " 22  p2                          1962 non-null   object        \n",
      " 23  p2_conf                     1962 non-null   float64       \n",
      " 24  p2_dog                      1962 non-null   bool          \n",
      " 25  p3                          1962 non-null   object        \n",
      " 26  p3_conf                     1962 non-null   float64       \n",
      " 27  p3_dog                      1962 non-null   bool          \n",
      " 28  retweet_count               1962 non-null   int64         \n",
      " 29  favorite_count              1962 non-null   int64         \n",
      "dtypes: bool(3), datetime64[ns](1), float64(7), int64(6), object(13)\n",
      "memory usage: 434.9+ KB\n"
     ]
    }
   ],
   "source": [
    "df_merged.info()"
   ]
  },
  {
   "cell_type": "markdown",
   "metadata": {},
   "source": [
    "### Tidiness Issue no. 2: remove retweet-related columns"
   ]
  },
  {
   "cell_type": "markdown",
   "metadata": {},
   "source": [
    "### Define:\n",
    "Drop all retweet related columns"
   ]
  },
  {
   "cell_type": "markdown",
   "metadata": {},
   "source": [
    "### Code:"
   ]
  },
  {
   "cell_type": "code",
   "execution_count": 190,
   "metadata": {},
   "outputs": [],
   "source": [
    "df_merged = df_merged.drop(['retweeted_status_id', \n",
    "                            'retweeted_status_user_id',\n",
    "                            'retweeted_status_timestamp'], axis = 1)"
   ]
  },
  {
   "cell_type": "markdown",
   "metadata": {},
   "source": [
    "### Test:"
   ]
  },
  {
   "cell_type": "code",
   "execution_count": 191,
   "metadata": {},
   "outputs": [
    {
     "name": "stdout",
     "output_type": "stream",
     "text": [
      "<class 'pandas.core.frame.DataFrame'>\n",
      "Int64Index: 1962 entries, 0 to 2056\n",
      "Data columns (total 27 columns):\n",
      " #   Column                 Non-Null Count  Dtype         \n",
      "---  ------                 --------------  -----         \n",
      " 0   tweet_id               1962 non-null   int64         \n",
      " 1   in_reply_to_status_id  0 non-null      float64       \n",
      " 2   in_reply_to_user_id    0 non-null      float64       \n",
      " 3   timestamp              1962 non-null   datetime64[ns]\n",
      " 4   source                 1962 non-null   object        \n",
      " 5   text                   1962 non-null   object        \n",
      " 6   expanded_urls          1962 non-null   object        \n",
      " 7   rating_numerator       1962 non-null   int64         \n",
      " 8   rating_denominator     1962 non-null   int64         \n",
      " 9   name                   1962 non-null   object        \n",
      " 10  doggo                  1962 non-null   object        \n",
      " 11  floofer                1962 non-null   object        \n",
      " 12  pupper                 1962 non-null   object        \n",
      " 13  puppo                  1962 non-null   object        \n",
      " 14  jpg_url                1962 non-null   object        \n",
      " 15  img_num                1962 non-null   int64         \n",
      " 16  p1                     1962 non-null   object        \n",
      " 17  p1_conf                1962 non-null   float64       \n",
      " 18  p1_dog                 1962 non-null   bool          \n",
      " 19  p2                     1962 non-null   object        \n",
      " 20  p2_conf                1962 non-null   float64       \n",
      " 21  p2_dog                 1962 non-null   bool          \n",
      " 22  p3                     1962 non-null   object        \n",
      " 23  p3_conf                1962 non-null   float64       \n",
      " 24  p3_dog                 1962 non-null   bool          \n",
      " 25  retweet_count          1962 non-null   int64         \n",
      " 26  favorite_count         1962 non-null   int64         \n",
      "dtypes: bool(3), datetime64[ns](1), float64(5), int64(6), object(12)\n",
      "memory usage: 389.0+ KB\n"
     ]
    }
   ],
   "source": [
    "df_merged.info()"
   ]
  },
  {
   "cell_type": "markdown",
   "metadata": {},
   "source": [
    "### Tidiness Issue no. 3: remove reply-related columns"
   ]
  },
  {
   "cell_type": "markdown",
   "metadata": {},
   "source": [
    "### Define:\n",
    "Drop all reply related columns"
   ]
  },
  {
   "cell_type": "markdown",
   "metadata": {},
   "source": [
    "### Code:"
   ]
  },
  {
   "cell_type": "code",
   "execution_count": 192,
   "metadata": {},
   "outputs": [],
   "source": [
    "df_merged = df_merged.drop(['in_reply_to_status_id', \n",
    "                            'in_reply_to_user_id'], axis = 1)"
   ]
  },
  {
   "cell_type": "markdown",
   "metadata": {},
   "source": [
    "### Test:"
   ]
  },
  {
   "cell_type": "code",
   "execution_count": 193,
   "metadata": {},
   "outputs": [
    {
     "name": "stdout",
     "output_type": "stream",
     "text": [
      "<class 'pandas.core.frame.DataFrame'>\n",
      "Int64Index: 1962 entries, 0 to 2056\n",
      "Data columns (total 25 columns):\n",
      " #   Column              Non-Null Count  Dtype         \n",
      "---  ------              --------------  -----         \n",
      " 0   tweet_id            1962 non-null   int64         \n",
      " 1   timestamp           1962 non-null   datetime64[ns]\n",
      " 2   source              1962 non-null   object        \n",
      " 3   text                1962 non-null   object        \n",
      " 4   expanded_urls       1962 non-null   object        \n",
      " 5   rating_numerator    1962 non-null   int64         \n",
      " 6   rating_denominator  1962 non-null   int64         \n",
      " 7   name                1962 non-null   object        \n",
      " 8   doggo               1962 non-null   object        \n",
      " 9   floofer             1962 non-null   object        \n",
      " 10  pupper              1962 non-null   object        \n",
      " 11  puppo               1962 non-null   object        \n",
      " 12  jpg_url             1962 non-null   object        \n",
      " 13  img_num             1962 non-null   int64         \n",
      " 14  p1                  1962 non-null   object        \n",
      " 15  p1_conf             1962 non-null   float64       \n",
      " 16  p1_dog              1962 non-null   bool          \n",
      " 17  p2                  1962 non-null   object        \n",
      " 18  p2_conf             1962 non-null   float64       \n",
      " 19  p2_dog              1962 non-null   bool          \n",
      " 20  p3                  1962 non-null   object        \n",
      " 21  p3_conf             1962 non-null   float64       \n",
      " 22  p3_dog              1962 non-null   bool          \n",
      " 23  retweet_count       1962 non-null   int64         \n",
      " 24  favorite_count      1962 non-null   int64         \n",
      "dtypes: bool(3), datetime64[ns](1), float64(3), int64(6), object(12)\n",
      "memory usage: 358.3+ KB\n"
     ]
    }
   ],
   "source": [
    "df_merged.info()"
   ]
  },
  {
   "cell_type": "markdown",
   "metadata": {},
   "source": [
    "### Tidiness Issue no. 4: merge 4 different categorical dog stages into one column"
   ]
  },
  {
   "cell_type": "markdown",
   "metadata": {},
   "source": [
    "### Define:\n",
    "extract the different dog stages from the “text” column, populate the values in a new column called “stage” and lastly drop the redundant columns"
   ]
  },
  {
   "cell_type": "markdown",
   "metadata": {},
   "source": [
    "### Code:"
   ]
  },
  {
   "cell_type": "code",
   "execution_count": 194,
   "metadata": {},
   "outputs": [],
   "source": [
    "df_merged['stage'] = df_merged['text'].str.extract('(doggo|floofer|pupper|puppo)')"
   ]
  },
  {
   "cell_type": "code",
   "execution_count": 195,
   "metadata": {},
   "outputs": [
    {
     "name": "stdout",
     "output_type": "stream",
     "text": [
      "<class 'pandas.core.frame.DataFrame'>\n",
      "Int64Index: 1962 entries, 0 to 2056\n",
      "Data columns (total 26 columns):\n",
      " #   Column              Non-Null Count  Dtype         \n",
      "---  ------              --------------  -----         \n",
      " 0   tweet_id            1962 non-null   int64         \n",
      " 1   timestamp           1962 non-null   datetime64[ns]\n",
      " 2   source              1962 non-null   object        \n",
      " 3   text                1962 non-null   object        \n",
      " 4   expanded_urls       1962 non-null   object        \n",
      " 5   rating_numerator    1962 non-null   int64         \n",
      " 6   rating_denominator  1962 non-null   int64         \n",
      " 7   name                1962 non-null   object        \n",
      " 8   doggo               1962 non-null   object        \n",
      " 9   floofer             1962 non-null   object        \n",
      " 10  pupper              1962 non-null   object        \n",
      " 11  puppo               1962 non-null   object        \n",
      " 12  jpg_url             1962 non-null   object        \n",
      " 13  img_num             1962 non-null   int64         \n",
      " 14  p1                  1962 non-null   object        \n",
      " 15  p1_conf             1962 non-null   float64       \n",
      " 16  p1_dog              1962 non-null   bool          \n",
      " 17  p2                  1962 non-null   object        \n",
      " 18  p2_conf             1962 non-null   float64       \n",
      " 19  p2_dog              1962 non-null   bool          \n",
      " 20  p3                  1962 non-null   object        \n",
      " 21  p3_conf             1962 non-null   float64       \n",
      " 22  p3_dog              1962 non-null   bool          \n",
      " 23  retweet_count       1962 non-null   int64         \n",
      " 24  favorite_count      1962 non-null   int64         \n",
      " 25  stage               320 non-null    object        \n",
      "dtypes: bool(3), datetime64[ns](1), float64(3), int64(6), object(13)\n",
      "memory usage: 373.6+ KB\n"
     ]
    }
   ],
   "source": [
    "df_merged.info()"
   ]
  },
  {
   "cell_type": "code",
   "execution_count": 196,
   "metadata": {},
   "outputs": [],
   "source": [
    "df_merged = df_merged.drop(['doggo', 'floofer', 'pupper', 'puppo'], axis=1)"
   ]
  },
  {
   "cell_type": "markdown",
   "metadata": {},
   "source": [
    "### Test:"
   ]
  },
  {
   "cell_type": "code",
   "execution_count": 197,
   "metadata": {},
   "outputs": [
    {
     "name": "stdout",
     "output_type": "stream",
     "text": [
      "<class 'pandas.core.frame.DataFrame'>\n",
      "Int64Index: 1962 entries, 0 to 2056\n",
      "Data columns (total 22 columns):\n",
      " #   Column              Non-Null Count  Dtype         \n",
      "---  ------              --------------  -----         \n",
      " 0   tweet_id            1962 non-null   int64         \n",
      " 1   timestamp           1962 non-null   datetime64[ns]\n",
      " 2   source              1962 non-null   object        \n",
      " 3   text                1962 non-null   object        \n",
      " 4   expanded_urls       1962 non-null   object        \n",
      " 5   rating_numerator    1962 non-null   int64         \n",
      " 6   rating_denominator  1962 non-null   int64         \n",
      " 7   name                1962 non-null   object        \n",
      " 8   jpg_url             1962 non-null   object        \n",
      " 9   img_num             1962 non-null   int64         \n",
      " 10  p1                  1962 non-null   object        \n",
      " 11  p1_conf             1962 non-null   float64       \n",
      " 12  p1_dog              1962 non-null   bool          \n",
      " 13  p2                  1962 non-null   object        \n",
      " 14  p2_conf             1962 non-null   float64       \n",
      " 15  p2_dog              1962 non-null   bool          \n",
      " 16  p3                  1962 non-null   object        \n",
      " 17  p3_conf             1962 non-null   float64       \n",
      " 18  p3_dog              1962 non-null   bool          \n",
      " 19  retweet_count       1962 non-null   int64         \n",
      " 20  favorite_count      1962 non-null   int64         \n",
      " 21  stage               320 non-null    object        \n",
      "dtypes: bool(3), datetime64[ns](1), float64(3), int64(6), object(9)\n",
      "memory usage: 312.3+ KB\n"
     ]
    }
   ],
   "source": [
    "df_merged.info()"
   ]
  },
  {
   "cell_type": "markdown",
   "metadata": {},
   "source": [
    "### Quality Issue no. 4: convert tweet_id to string\n"
   ]
  },
  {
   "cell_type": "markdown",
   "metadata": {},
   "source": [
    "### Define: \n",
    "Convert tweet_id to string data type"
   ]
  },
  {
   "cell_type": "markdown",
   "metadata": {},
   "source": [
    "### Code:"
   ]
  },
  {
   "cell_type": "code",
   "execution_count": 198,
   "metadata": {},
   "outputs": [],
   "source": [
    "df_merged['tweet_id'] = df_merged['tweet_id'].astype(str)"
   ]
  },
  {
   "cell_type": "markdown",
   "metadata": {},
   "source": [
    "### Test:"
   ]
  },
  {
   "cell_type": "code",
   "execution_count": 199,
   "metadata": {},
   "outputs": [
    {
     "name": "stdout",
     "output_type": "stream",
     "text": [
      "<class 'pandas.core.frame.DataFrame'>\n",
      "Int64Index: 1962 entries, 0 to 2056\n",
      "Data columns (total 22 columns):\n",
      " #   Column              Non-Null Count  Dtype         \n",
      "---  ------              --------------  -----         \n",
      " 0   tweet_id            1962 non-null   object        \n",
      " 1   timestamp           1962 non-null   datetime64[ns]\n",
      " 2   source              1962 non-null   object        \n",
      " 3   text                1962 non-null   object        \n",
      " 4   expanded_urls       1962 non-null   object        \n",
      " 5   rating_numerator    1962 non-null   int64         \n",
      " 6   rating_denominator  1962 non-null   int64         \n",
      " 7   name                1962 non-null   object        \n",
      " 8   jpg_url             1962 non-null   object        \n",
      " 9   img_num             1962 non-null   int64         \n",
      " 10  p1                  1962 non-null   object        \n",
      " 11  p1_conf             1962 non-null   float64       \n",
      " 12  p1_dog              1962 non-null   bool          \n",
      " 13  p2                  1962 non-null   object        \n",
      " 14  p2_conf             1962 non-null   float64       \n",
      " 15  p2_dog              1962 non-null   bool          \n",
      " 16  p3                  1962 non-null   object        \n",
      " 17  p3_conf             1962 non-null   float64       \n",
      " 18  p3_dog              1962 non-null   bool          \n",
      " 19  retweet_count       1962 non-null   int64         \n",
      " 20  favorite_count      1962 non-null   int64         \n",
      " 21  stage               320 non-null    object        \n",
      "dtypes: bool(3), datetime64[ns](1), float64(3), int64(5), object(10)\n",
      "memory usage: 312.3+ KB\n"
     ]
    }
   ],
   "source": [
    "df_merged.info()"
   ]
  },
  {
   "cell_type": "markdown",
   "metadata": {},
   "source": [
    "### Quality Issue no. 5: Inconsistent spelling of dof types\n"
   ]
  },
  {
   "cell_type": "markdown",
   "metadata": {},
   "source": [
    "### Define: \n",
    "convert all strings to lower_case"
   ]
  },
  {
   "cell_type": "markdown",
   "metadata": {},
   "source": [
    "### Code: "
   ]
  },
  {
   "cell_type": "code",
   "execution_count": 200,
   "metadata": {},
   "outputs": [],
   "source": [
    "df_merged['p1'] = df_merged['p1'].str.lower()\n",
    "df_merged['p2'] = df_merged['p2'].str.lower()\n",
    "df_merged['p3'] = df_merged['p3'].str.lower()"
   ]
  },
  {
   "cell_type": "markdown",
   "metadata": {},
   "source": [
    "### Test:"
   ]
  },
  {
   "cell_type": "code",
   "execution_count": 201,
   "metadata": {},
   "outputs": [
    {
     "data": {
      "text/html": [
       "<div>\n",
       "<style scoped>\n",
       "    .dataframe tbody tr th:only-of-type {\n",
       "        vertical-align: middle;\n",
       "    }\n",
       "\n",
       "    .dataframe tbody tr th {\n",
       "        vertical-align: top;\n",
       "    }\n",
       "\n",
       "    .dataframe thead th {\n",
       "        text-align: right;\n",
       "    }\n",
       "</style>\n",
       "<table border=\"1\" class=\"dataframe\">\n",
       "  <thead>\n",
       "    <tr style=\"text-align: right;\">\n",
       "      <th></th>\n",
       "      <th>p1</th>\n",
       "      <th>p2</th>\n",
       "      <th>p3</th>\n",
       "    </tr>\n",
       "  </thead>\n",
       "  <tbody>\n",
       "    <tr>\n",
       "      <th>730</th>\n",
       "      <td>doormat</td>\n",
       "      <td>wallet</td>\n",
       "      <td>wool</td>\n",
       "    </tr>\n",
       "    <tr>\n",
       "      <th>998</th>\n",
       "      <td>dingo</td>\n",
       "      <td>chihuahua</td>\n",
       "      <td>cardigan</td>\n",
       "    </tr>\n",
       "    <tr>\n",
       "      <th>1664</th>\n",
       "      <td>beagle</td>\n",
       "      <td>basset</td>\n",
       "      <td>walker_hound</td>\n",
       "    </tr>\n",
       "    <tr>\n",
       "      <th>186</th>\n",
       "      <td>airedale</td>\n",
       "      <td>irish_terrier</td>\n",
       "      <td>lakeland_terrier</td>\n",
       "    </tr>\n",
       "    <tr>\n",
       "      <th>929</th>\n",
       "      <td>cocker_spaniel</td>\n",
       "      <td>golden_retriever</td>\n",
       "      <td>sandbar</td>\n",
       "    </tr>\n",
       "  </tbody>\n",
       "</table>\n",
       "</div>"
      ],
      "text/plain": [
       "                  p1                p2                p3\n",
       "730          doormat            wallet              wool\n",
       "998            dingo         chihuahua          cardigan\n",
       "1664          beagle            basset      walker_hound\n",
       "186         airedale     irish_terrier  lakeland_terrier\n",
       "929   cocker_spaniel  golden_retriever           sandbar"
      ]
     },
     "execution_count": 201,
     "metadata": {},
     "output_type": "execute_result"
    }
   ],
   "source": [
    "df_merged[['p1', 'p2', 'p3']].sample(5)"
   ]
  },
  {
   "cell_type": "markdown",
   "metadata": {},
   "source": [
    "### Quality Issue no. 6: Simplify source values"
   ]
  },
  {
   "cell_type": "markdown",
   "metadata": {},
   "source": [
    "### Define:\n",
    "Extract the display value from the link"
   ]
  },
  {
   "cell_type": "markdown",
   "metadata": {},
   "source": [
    "### Code:"
   ]
  },
  {
   "cell_type": "code",
   "execution_count": 204,
   "metadata": {},
   "outputs": [],
   "source": [
    "df_merged['source'] = df_merged['source'].str.extract('^<a.+>(.+)</a>$')"
   ]
  },
  {
   "cell_type": "markdown",
   "metadata": {},
   "source": [
    "### Test:"
   ]
  },
  {
   "cell_type": "code",
   "execution_count": 205,
   "metadata": {},
   "outputs": [
    {
     "data": {
      "text/plain": [
       "Twitter for iPhone    1924\n",
       "Twitter Web Client      28\n",
       "TweetDeck               10\n",
       "Name: source, dtype: int64"
      ]
     },
     "execution_count": 205,
     "metadata": {},
     "output_type": "execute_result"
    }
   ],
   "source": [
    "df_merged['source'].value_counts()"
   ]
  },
  {
   "cell_type": "markdown",
   "metadata": {},
   "source": [
    "### Quality Issue no. 7: generating one column for rating-numberator and rating-denominator"
   ]
  },
  {
   "cell_type": "markdown",
   "metadata": {},
   "source": [
    "### Define:\n",
    "convert rating-numberator and rating-denominator into one column for a better comparison of the rating"
   ]
  },
  {
   "cell_type": "markdown",
   "metadata": {},
   "source": [
    "### Code:"
   ]
  },
  {
   "cell_type": "code",
   "execution_count": 206,
   "metadata": {},
   "outputs": [],
   "source": [
    "df_merged['rating'] = 10 * df_merged['rating_numerator'] / df_merged['rating_denominator']"
   ]
  },
  {
   "cell_type": "markdown",
   "metadata": {},
   "source": [
    "### Test:"
   ]
  },
  {
   "cell_type": "code",
   "execution_count": 209,
   "metadata": {},
   "outputs": [
    {
     "data": {
      "text/html": [
       "<div>\n",
       "<style scoped>\n",
       "    .dataframe tbody tr th:only-of-type {\n",
       "        vertical-align: middle;\n",
       "    }\n",
       "\n",
       "    .dataframe tbody tr th {\n",
       "        vertical-align: top;\n",
       "    }\n",
       "\n",
       "    .dataframe thead th {\n",
       "        text-align: right;\n",
       "    }\n",
       "</style>\n",
       "<table border=\"1\" class=\"dataframe\">\n",
       "  <thead>\n",
       "    <tr style=\"text-align: right;\">\n",
       "      <th></th>\n",
       "      <th>tweet_id</th>\n",
       "      <th>timestamp</th>\n",
       "      <th>source</th>\n",
       "      <th>text</th>\n",
       "      <th>expanded_urls</th>\n",
       "      <th>rating_numerator</th>\n",
       "      <th>rating_denominator</th>\n",
       "      <th>name</th>\n",
       "      <th>jpg_url</th>\n",
       "      <th>img_num</th>\n",
       "      <th>...</th>\n",
       "      <th>p2</th>\n",
       "      <th>p2_conf</th>\n",
       "      <th>p2_dog</th>\n",
       "      <th>p3</th>\n",
       "      <th>p3_conf</th>\n",
       "      <th>p3_dog</th>\n",
       "      <th>retweet_count</th>\n",
       "      <th>favorite_count</th>\n",
       "      <th>stage</th>\n",
       "      <th>rating</th>\n",
       "    </tr>\n",
       "  </thead>\n",
       "  <tbody>\n",
       "    <tr>\n",
       "      <th>2054</th>\n",
       "      <td>666033412701032449</td>\n",
       "      <td>2015-11-15 23:21:54</td>\n",
       "      <td>Twitter for iPhone</td>\n",
       "      <td>Here is a very happy pup. Big fan of well-main...</td>\n",
       "      <td>https://twitter.com/dog_rates/status/666033412...</td>\n",
       "      <td>9</td>\n",
       "      <td>10</td>\n",
       "      <td>a</td>\n",
       "      <td>https://pbs.twimg.com/media/CT4521TWwAEvMyu.jpg</td>\n",
       "      <td>1</td>\n",
       "      <td>...</td>\n",
       "      <td>malinois</td>\n",
       "      <td>0.138584</td>\n",
       "      <td>True</td>\n",
       "      <td>bloodhound</td>\n",
       "      <td>0.116197</td>\n",
       "      <td>True</td>\n",
       "      <td>41</td>\n",
       "      <td>111</td>\n",
       "      <td>NaN</td>\n",
       "      <td>9.0</td>\n",
       "    </tr>\n",
       "    <tr>\n",
       "      <th>2055</th>\n",
       "      <td>666029285002620928</td>\n",
       "      <td>2015-11-15 23:05:30</td>\n",
       "      <td>Twitter for iPhone</td>\n",
       "      <td>This is a western brown Mitsubishi terrier. Up...</td>\n",
       "      <td>https://twitter.com/dog_rates/status/666029285...</td>\n",
       "      <td>7</td>\n",
       "      <td>10</td>\n",
       "      <td>a</td>\n",
       "      <td>https://pbs.twimg.com/media/CT42GRgUYAA5iDo.jpg</td>\n",
       "      <td>1</td>\n",
       "      <td>...</td>\n",
       "      <td>miniature_pinscher</td>\n",
       "      <td>0.074192</td>\n",
       "      <td>True</td>\n",
       "      <td>rhodesian_ridgeback</td>\n",
       "      <td>0.072010</td>\n",
       "      <td>True</td>\n",
       "      <td>42</td>\n",
       "      <td>120</td>\n",
       "      <td>NaN</td>\n",
       "      <td>7.0</td>\n",
       "    </tr>\n",
       "    <tr>\n",
       "      <th>2056</th>\n",
       "      <td>666020888022790149</td>\n",
       "      <td>2015-11-15 22:32:08</td>\n",
       "      <td>Twitter for iPhone</td>\n",
       "      <td>Here we have a Japanese Irish Setter. Lost eye...</td>\n",
       "      <td>https://twitter.com/dog_rates/status/666020888...</td>\n",
       "      <td>8</td>\n",
       "      <td>10</td>\n",
       "      <td>None</td>\n",
       "      <td>https://pbs.twimg.com/media/CT4udn0WwAA0aMy.jpg</td>\n",
       "      <td>1</td>\n",
       "      <td>...</td>\n",
       "      <td>collie</td>\n",
       "      <td>0.156665</td>\n",
       "      <td>True</td>\n",
       "      <td>shetland_sheepdog</td>\n",
       "      <td>0.061428</td>\n",
       "      <td>True</td>\n",
       "      <td>458</td>\n",
       "      <td>2383</td>\n",
       "      <td>NaN</td>\n",
       "      <td>8.0</td>\n",
       "    </tr>\n",
       "  </tbody>\n",
       "</table>\n",
       "<p>3 rows × 23 columns</p>\n",
       "</div>"
      ],
      "text/plain": [
       "                tweet_id           timestamp              source  \\\n",
       "2054  666033412701032449 2015-11-15 23:21:54  Twitter for iPhone   \n",
       "2055  666029285002620928 2015-11-15 23:05:30  Twitter for iPhone   \n",
       "2056  666020888022790149 2015-11-15 22:32:08  Twitter for iPhone   \n",
       "\n",
       "                                                   text  \\\n",
       "2054  Here is a very happy pup. Big fan of well-main...   \n",
       "2055  This is a western brown Mitsubishi terrier. Up...   \n",
       "2056  Here we have a Japanese Irish Setter. Lost eye...   \n",
       "\n",
       "                                          expanded_urls  rating_numerator  \\\n",
       "2054  https://twitter.com/dog_rates/status/666033412...                 9   \n",
       "2055  https://twitter.com/dog_rates/status/666029285...                 7   \n",
       "2056  https://twitter.com/dog_rates/status/666020888...                 8   \n",
       "\n",
       "      rating_denominator  name  \\\n",
       "2054                  10     a   \n",
       "2055                  10     a   \n",
       "2056                  10  None   \n",
       "\n",
       "                                              jpg_url  img_num  ...  \\\n",
       "2054  https://pbs.twimg.com/media/CT4521TWwAEvMyu.jpg        1  ...   \n",
       "2055  https://pbs.twimg.com/media/CT42GRgUYAA5iDo.jpg        1  ...   \n",
       "2056  https://pbs.twimg.com/media/CT4udn0WwAA0aMy.jpg        1  ...   \n",
       "\n",
       "                      p2   p2_conf  p2_dog                   p3   p3_conf  \\\n",
       "2054            malinois  0.138584    True           bloodhound  0.116197   \n",
       "2055  miniature_pinscher  0.074192    True  rhodesian_ridgeback  0.072010   \n",
       "2056              collie  0.156665    True    shetland_sheepdog  0.061428   \n",
       "\n",
       "      p3_dog retweet_count  favorite_count  stage  rating  \n",
       "2054    True            41             111    NaN     9.0  \n",
       "2055    True            42             120    NaN     7.0  \n",
       "2056    True           458            2383    NaN     8.0  \n",
       "\n",
       "[3 rows x 23 columns]"
      ]
     },
     "execution_count": 209,
     "metadata": {},
     "output_type": "execute_result"
    }
   ],
   "source": [
    "df_merged.tail(3)"
   ]
  },
  {
   "cell_type": "code",
   "execution_count": 212,
   "metadata": {},
   "outputs": [
    {
     "name": "stdout",
     "output_type": "stream",
     "text": [
      "<class 'pandas.core.frame.DataFrame'>\n",
      "Int64Index: 1962 entries, 0 to 2056\n",
      "Data columns (total 23 columns):\n",
      " #   Column              Non-Null Count  Dtype         \n",
      "---  ------              --------------  -----         \n",
      " 0   tweet_id            1962 non-null   object        \n",
      " 1   timestamp           1962 non-null   datetime64[ns]\n",
      " 2   source              1962 non-null   object        \n",
      " 3   text                1962 non-null   object        \n",
      " 4   expanded_urls       1962 non-null   object        \n",
      " 5   rating_numerator    1962 non-null   int64         \n",
      " 6   rating_denominator  1962 non-null   int64         \n",
      " 7   name                1962 non-null   object        \n",
      " 8   jpg_url             1962 non-null   object        \n",
      " 9   img_num             1962 non-null   int64         \n",
      " 10  p1                  1962 non-null   object        \n",
      " 11  p1_conf             1962 non-null   float64       \n",
      " 12  p1_dog              1962 non-null   bool          \n",
      " 13  p2                  1962 non-null   object        \n",
      " 14  p2_conf             1962 non-null   float64       \n",
      " 15  p2_dog              1962 non-null   bool          \n",
      " 16  p3                  1962 non-null   object        \n",
      " 17  p3_conf             1962 non-null   float64       \n",
      " 18  p3_dog              1962 non-null   bool          \n",
      " 19  retweet_count       1962 non-null   int64         \n",
      " 20  favorite_count      1962 non-null   int64         \n",
      " 21  stage               320 non-null    object        \n",
      " 22  rating              1962 non-null   float64       \n",
      "dtypes: bool(3), datetime64[ns](1), float64(4), int64(5), object(10)\n",
      "memory usage: 327.6+ KB\n"
     ]
    }
   ],
   "source": [
    "df_merged.info()"
   ]
  },
  {
   "cell_type": "markdown",
   "metadata": {},
   "source": [
    "### Quality Issue no. 8: getting rid of no real names"
   ]
  },
  {
   "cell_type": "markdown",
   "metadata": {},
   "source": [
    "### Define:\n",
    "replace lowercase_names and 'None' values with NaN"
   ]
  },
  {
   "cell_type": "markdown",
   "metadata": {},
   "source": [
    "### Code:"
   ]
  },
  {
   "cell_type": "code",
   "execution_count": 226,
   "metadata": {},
   "outputs": [],
   "source": [
    "lowercase_names = []\n",
    "\n",
    "for name in df_merged['name']:\n",
    "    if name[0].islower() and name not in lowercase_names:\n",
    "        lowercase_names.append(name)"
   ]
  },
  {
   "cell_type": "code",
   "execution_count": 227,
   "metadata": {},
   "outputs": [],
   "source": [
    "df_merged['name'].replace(lowercase_names, np.nan, inplace = True)"
   ]
  },
  {
   "cell_type": "code",
   "execution_count": 228,
   "metadata": {},
   "outputs": [],
   "source": [
    "df_merged['name'].replace('None', np.nan, inplace = True)"
   ]
  },
  {
   "cell_type": "markdown",
   "metadata": {},
   "source": [
    "### Test:"
   ]
  },
  {
   "cell_type": "code",
   "execution_count": 232,
   "metadata": {},
   "outputs": [
    {
     "data": {
      "text/plain": [
       "Charlie    10\n",
       "Cooper     10\n",
       "Oliver     10\n",
       "Lucy        9\n",
       "Penny       9\n",
       "           ..\n",
       "O           1\n",
       "Timber      1\n",
       "Derby       1\n",
       "Colin       1\n",
       "Rodney      1\n",
       "Name: name, Length: 909, dtype: int64"
      ]
     },
     "execution_count": 232,
     "metadata": {},
     "output_type": "execute_result"
    }
   ],
   "source": [
    "df_merged['name'].value_counts()"
   ]
  },
  {
   "cell_type": "markdown",
   "metadata": {},
   "source": [
    "# Store Data:"
   ]
  },
  {
   "cell_type": "code",
   "execution_count": 234,
   "metadata": {},
   "outputs": [],
   "source": [
    "df_merged.to_csv('twitter_archive_master.csv', index=False)"
   ]
  },
  {
   "cell_type": "markdown",
   "metadata": {},
   "source": [
    "# Analyse and Visualize Data:"
   ]
  },
  {
   "cell_type": "code",
   "execution_count": 235,
   "metadata": {},
   "outputs": [
    {
     "data": {
      "text/html": [
       "<div>\n",
       "<style scoped>\n",
       "    .dataframe tbody tr th:only-of-type {\n",
       "        vertical-align: middle;\n",
       "    }\n",
       "\n",
       "    .dataframe tbody tr th {\n",
       "        vertical-align: top;\n",
       "    }\n",
       "\n",
       "    .dataframe thead th {\n",
       "        text-align: right;\n",
       "    }\n",
       "</style>\n",
       "<table border=\"1\" class=\"dataframe\">\n",
       "  <thead>\n",
       "    <tr style=\"text-align: right;\">\n",
       "      <th></th>\n",
       "      <th>tweet_id</th>\n",
       "      <th>timestamp</th>\n",
       "      <th>source</th>\n",
       "      <th>text</th>\n",
       "      <th>expanded_urls</th>\n",
       "      <th>rating_numerator</th>\n",
       "      <th>rating_denominator</th>\n",
       "      <th>name</th>\n",
       "      <th>jpg_url</th>\n",
       "      <th>img_num</th>\n",
       "      <th>...</th>\n",
       "      <th>p2</th>\n",
       "      <th>p2_conf</th>\n",
       "      <th>p2_dog</th>\n",
       "      <th>p3</th>\n",
       "      <th>p3_conf</th>\n",
       "      <th>p3_dog</th>\n",
       "      <th>retweet_count</th>\n",
       "      <th>favorite_count</th>\n",
       "      <th>stage</th>\n",
       "      <th>rating</th>\n",
       "    </tr>\n",
       "  </thead>\n",
       "  <tbody>\n",
       "    <tr>\n",
       "      <th>0</th>\n",
       "      <td>892420643555336193</td>\n",
       "      <td>2017-08-01 16:23:56</td>\n",
       "      <td>Twitter for iPhone</td>\n",
       "      <td>This is Phineas. He's a mystical boy. Only eve...</td>\n",
       "      <td>https://twitter.com/dog_rates/status/892420643...</td>\n",
       "      <td>13</td>\n",
       "      <td>10</td>\n",
       "      <td>Phineas</td>\n",
       "      <td>https://pbs.twimg.com/media/DGKD1-bXoAAIAUK.jpg</td>\n",
       "      <td>1</td>\n",
       "      <td>...</td>\n",
       "      <td>bagel</td>\n",
       "      <td>0.085851</td>\n",
       "      <td>False</td>\n",
       "      <td>banana</td>\n",
       "      <td>0.076110</td>\n",
       "      <td>False</td>\n",
       "      <td>7579</td>\n",
       "      <td>35813</td>\n",
       "      <td>NaN</td>\n",
       "      <td>13.0</td>\n",
       "    </tr>\n",
       "    <tr>\n",
       "      <th>1</th>\n",
       "      <td>892177421306343426</td>\n",
       "      <td>2017-08-01 00:17:27</td>\n",
       "      <td>Twitter for iPhone</td>\n",
       "      <td>This is Tilly. She's just checking pup on you....</td>\n",
       "      <td>https://twitter.com/dog_rates/status/892177421...</td>\n",
       "      <td>13</td>\n",
       "      <td>10</td>\n",
       "      <td>Tilly</td>\n",
       "      <td>https://pbs.twimg.com/media/DGGmoV4XsAAUL6n.jpg</td>\n",
       "      <td>1</td>\n",
       "      <td>...</td>\n",
       "      <td>pekinese</td>\n",
       "      <td>0.090647</td>\n",
       "      <td>True</td>\n",
       "      <td>papillon</td>\n",
       "      <td>0.068957</td>\n",
       "      <td>True</td>\n",
       "      <td>5620</td>\n",
       "      <td>30916</td>\n",
       "      <td>NaN</td>\n",
       "      <td>13.0</td>\n",
       "    </tr>\n",
       "    <tr>\n",
       "      <th>2</th>\n",
       "      <td>891815181378084864</td>\n",
       "      <td>2017-07-31 00:18:03</td>\n",
       "      <td>Twitter for iPhone</td>\n",
       "      <td>This is Archie. He is a rare Norwegian Pouncin...</td>\n",
       "      <td>https://twitter.com/dog_rates/status/891815181...</td>\n",
       "      <td>12</td>\n",
       "      <td>10</td>\n",
       "      <td>Archie</td>\n",
       "      <td>https://pbs.twimg.com/media/DGBdLU1WsAANxJ9.jpg</td>\n",
       "      <td>1</td>\n",
       "      <td>...</td>\n",
       "      <td>malamute</td>\n",
       "      <td>0.078253</td>\n",
       "      <td>True</td>\n",
       "      <td>kelpie</td>\n",
       "      <td>0.031379</td>\n",
       "      <td>True</td>\n",
       "      <td>3719</td>\n",
       "      <td>23260</td>\n",
       "      <td>NaN</td>\n",
       "      <td>12.0</td>\n",
       "    </tr>\n",
       "    <tr>\n",
       "      <th>3</th>\n",
       "      <td>891689557279858688</td>\n",
       "      <td>2017-07-30 15:58:51</td>\n",
       "      <td>Twitter for iPhone</td>\n",
       "      <td>This is Darla. She commenced a snooze mid meal...</td>\n",
       "      <td>https://twitter.com/dog_rates/status/891689557...</td>\n",
       "      <td>13</td>\n",
       "      <td>10</td>\n",
       "      <td>Darla</td>\n",
       "      <td>https://pbs.twimg.com/media/DF_q7IAWsAEuuN8.jpg</td>\n",
       "      <td>1</td>\n",
       "      <td>...</td>\n",
       "      <td>labrador_retriever</td>\n",
       "      <td>0.168086</td>\n",
       "      <td>True</td>\n",
       "      <td>spatula</td>\n",
       "      <td>0.040836</td>\n",
       "      <td>False</td>\n",
       "      <td>7764</td>\n",
       "      <td>39077</td>\n",
       "      <td>NaN</td>\n",
       "      <td>13.0</td>\n",
       "    </tr>\n",
       "    <tr>\n",
       "      <th>4</th>\n",
       "      <td>891327558926688256</td>\n",
       "      <td>2017-07-29 16:00:24</td>\n",
       "      <td>Twitter for iPhone</td>\n",
       "      <td>This is Franklin. He would like you to stop ca...</td>\n",
       "      <td>https://twitter.com/dog_rates/status/891327558...</td>\n",
       "      <td>12</td>\n",
       "      <td>10</td>\n",
       "      <td>Franklin</td>\n",
       "      <td>https://pbs.twimg.com/media/DF6hr6BUMAAzZgT.jpg</td>\n",
       "      <td>2</td>\n",
       "      <td>...</td>\n",
       "      <td>english_springer</td>\n",
       "      <td>0.225770</td>\n",
       "      <td>True</td>\n",
       "      <td>german_short-haired_pointer</td>\n",
       "      <td>0.175219</td>\n",
       "      <td>True</td>\n",
       "      <td>8357</td>\n",
       "      <td>37333</td>\n",
       "      <td>NaN</td>\n",
       "      <td>12.0</td>\n",
       "    </tr>\n",
       "  </tbody>\n",
       "</table>\n",
       "<p>5 rows × 23 columns</p>\n",
       "</div>"
      ],
      "text/plain": [
       "             tweet_id            timestamp              source  \\\n",
       "0  892420643555336193  2017-08-01 16:23:56  Twitter for iPhone   \n",
       "1  892177421306343426  2017-08-01 00:17:27  Twitter for iPhone   \n",
       "2  891815181378084864  2017-07-31 00:18:03  Twitter for iPhone   \n",
       "3  891689557279858688  2017-07-30 15:58:51  Twitter for iPhone   \n",
       "4  891327558926688256  2017-07-29 16:00:24  Twitter for iPhone   \n",
       "\n",
       "                                                text  \\\n",
       "0  This is Phineas. He's a mystical boy. Only eve...   \n",
       "1  This is Tilly. She's just checking pup on you....   \n",
       "2  This is Archie. He is a rare Norwegian Pouncin...   \n",
       "3  This is Darla. She commenced a snooze mid meal...   \n",
       "4  This is Franklin. He would like you to stop ca...   \n",
       "\n",
       "                                       expanded_urls  rating_numerator  \\\n",
       "0  https://twitter.com/dog_rates/status/892420643...                13   \n",
       "1  https://twitter.com/dog_rates/status/892177421...                13   \n",
       "2  https://twitter.com/dog_rates/status/891815181...                12   \n",
       "3  https://twitter.com/dog_rates/status/891689557...                13   \n",
       "4  https://twitter.com/dog_rates/status/891327558...                12   \n",
       "\n",
       "   rating_denominator      name  \\\n",
       "0                  10   Phineas   \n",
       "1                  10     Tilly   \n",
       "2                  10    Archie   \n",
       "3                  10     Darla   \n",
       "4                  10  Franklin   \n",
       "\n",
       "                                           jpg_url  img_num  ...  \\\n",
       "0  https://pbs.twimg.com/media/DGKD1-bXoAAIAUK.jpg        1  ...   \n",
       "1  https://pbs.twimg.com/media/DGGmoV4XsAAUL6n.jpg        1  ...   \n",
       "2  https://pbs.twimg.com/media/DGBdLU1WsAANxJ9.jpg        1  ...   \n",
       "3  https://pbs.twimg.com/media/DF_q7IAWsAEuuN8.jpg        1  ...   \n",
       "4  https://pbs.twimg.com/media/DF6hr6BUMAAzZgT.jpg        2  ...   \n",
       "\n",
       "                   p2   p2_conf  p2_dog                           p3  \\\n",
       "0               bagel  0.085851   False                       banana   \n",
       "1            pekinese  0.090647    True                     papillon   \n",
       "2            malamute  0.078253    True                       kelpie   \n",
       "3  labrador_retriever  0.168086    True                      spatula   \n",
       "4    english_springer  0.225770    True  german_short-haired_pointer   \n",
       "\n",
       "    p3_conf  p3_dog retweet_count  favorite_count  stage  rating  \n",
       "0  0.076110   False          7579           35813    NaN    13.0  \n",
       "1  0.068957    True          5620           30916    NaN    13.0  \n",
       "2  0.031379    True          3719           23260    NaN    12.0  \n",
       "3  0.040836   False          7764           39077    NaN    13.0  \n",
       "4  0.175219    True          8357           37333    NaN    12.0  \n",
       "\n",
       "[5 rows x 23 columns]"
      ]
     },
     "execution_count": 235,
     "metadata": {},
     "output_type": "execute_result"
    }
   ],
   "source": [
    "df_master = pd.read_csv('twitter_archive_master.csv')\n",
    "df_master.head()"
   ]
  },
  {
   "cell_type": "code",
   "execution_count": 238,
   "metadata": {},
   "outputs": [
    {
     "name": "stdout",
     "output_type": "stream",
     "text": [
      "<class 'pandas.core.frame.DataFrame'>\n",
      "RangeIndex: 1962 entries, 0 to 1961\n",
      "Data columns (total 23 columns):\n",
      " #   Column              Non-Null Count  Dtype  \n",
      "---  ------              --------------  -----  \n",
      " 0   tweet_id            1962 non-null   int64  \n",
      " 1   timestamp           1962 non-null   object \n",
      " 2   source              1962 non-null   object \n",
      " 3   text                1962 non-null   object \n",
      " 4   expanded_urls       1962 non-null   object \n",
      " 5   rating_numerator    1962 non-null   int64  \n",
      " 6   rating_denominator  1962 non-null   int64  \n",
      " 7   name                1341 non-null   object \n",
      " 8   jpg_url             1962 non-null   object \n",
      " 9   img_num             1962 non-null   int64  \n",
      " 10  p1                  1962 non-null   object \n",
      " 11  p1_conf             1962 non-null   float64\n",
      " 12  p1_dog              1962 non-null   bool   \n",
      " 13  p2                  1962 non-null   object \n",
      " 14  p2_conf             1962 non-null   float64\n",
      " 15  p2_dog              1962 non-null   bool   \n",
      " 16  p3                  1962 non-null   object \n",
      " 17  p3_conf             1962 non-null   float64\n",
      " 18  p3_dog              1962 non-null   bool   \n",
      " 19  retweet_count       1962 non-null   int64  \n",
      " 20  favorite_count      1962 non-null   int64  \n",
      " 21  stage               320 non-null    object \n",
      " 22  rating              1962 non-null   float64\n",
      "dtypes: bool(3), float64(4), int64(6), object(10)\n",
      "memory usage: 312.4+ KB\n"
     ]
    }
   ],
   "source": [
    "df_master.info()"
   ]
  },
  {
   "cell_type": "markdown",
   "metadata": {},
   "source": [
    "## Insight 1: Overview of dog stages."
   ]
  },
  {
   "cell_type": "code",
   "execution_count": 328,
   "metadata": {},
   "outputs": [
    {
     "data": {
      "image/png": "[encoded data removed]",
      "text/plain": [
       "<Figure size 648x648 with 1 Axes>"
      ]
     },
     "metadata": {},
     "output_type": "display_data"
    }
   ],
   "source": [
    "df_master['stage'].value_counts().plot(kind='pie', autopct='%1.1f%%', figsize=(9,9))\n",
    "\n",
    "plt.ylabel('')\n",
    "plt.title('Dog Stages', fontsize=20);"
   ]
  },
  {
   "cell_type": "markdown",
   "metadata": {},
   "source": [
    "## Insight 2: Overview of dog types."
   ]
  },
  {
   "cell_type": "code",
   "execution_count": 333,
   "metadata": {},
   "outputs": [
    {
     "data": {
      "text/plain": [
       "Text(0, 0.5, 'Dog Breed')"
      ]
     },
     "execution_count": 333,
     "metadata": {},
     "output_type": "execute_result"
    },
    {
     "data": {
      "image/png": "[encoded data removed]",
      "text/plain": [
       "<Figure size 648x648 with 1 Axes>"
      ]
     },
     "metadata": {
      "needs_background": "light"
     },
     "output_type": "display_data"
    }
   ],
   "source": [
    "df_master['p1'].value_counts().head(10).sort_values(ascending=True).plot(kind='barh', figsize=(9,9))\n",
    "plt.title('Top 10 Dog Predictions', fontsize=20)\n",
    "plt.xlabel('Number of Times Predicted', fontsize=14)\n",
    "plt.ylabel('Dog Breed', fontsize=14)"
   ]
  },
  {
   "cell_type": "markdown",
   "metadata": {},
   "source": [
    "## Insight 3: Top favoured dogs"
   ]
  },
  {
   "cell_type": "code",
   "execution_count": 323,
   "metadata": {},
   "outputs": [],
   "source": [
    "df_top_3_dogs = df_master.sort_values(['favorite_count'], ascending =False ).head(3)[['tweet_id', 'favorite_count']]\n",
    "\n",
    "no_1_dog = df_top_3_dogs.iloc[0][0]\n",
    "no_2_dog = df_top_3_dogs.iloc[1][0]\n",
    "no_3_dog = df_top_3_dogs.iloc[2][0]"
   ]
  },
  {
   "cell_type": "code",
   "execution_count": 324,
   "metadata": {},
   "outputs": [
    {
     "data": {
      "text/plain": [
       "762    https://pbs.twimg.com/ext_tw_video_thumb/74423...\n",
       "Name: jpg_url, dtype: object"
      ]
     },
     "execution_count": 324,
     "metadata": {},
     "output_type": "execute_result"
    }
   ],
   "source": [
    "df_master[df_master['tweet_id']==no_1_dog].jpg_url"
   ]
  },
  {
   "cell_type": "code",
   "execution_count": 325,
   "metadata": {},
   "outputs": [
    {
     "data": {
      "text/plain": [
       "302    https://pbs.twimg.com/media/C2tugXLXgAArJO4.jpg\n",
       "Name: jpg_url, dtype: object"
      ]
     },
     "execution_count": 325,
     "metadata": {},
     "output_type": "execute_result"
    }
   ],
   "source": [
    "df_master[df_master['tweet_id']==no_2_dog].jpg_url"
   ]
  },
  {
   "cell_type": "code",
   "execution_count": 326,
   "metadata": {},
   "outputs": [
    {
     "data": {
      "text/plain": [
       "393    https://pbs.twimg.com/ext_tw_video_thumb/80710...\n",
       "Name: jpg_url, dtype: object"
      ]
     },
     "execution_count": 326,
     "metadata": {},
     "output_type": "execute_result"
    }
   ],
   "source": [
    "df_master[df_master['tweet_id']==no_3_dog].jpg_url"
   ]
  },
  {
   "cell_type": "code",
   "execution_count": null,
   "metadata": {},
   "outputs": [],
   "source": []
  }
 ],
 "metadata": {
  "kernelspec": {
   "display_name": "Python [conda env:root] *",
   "language": "python",
   "name": "conda-root-py"
  },
  "language_info": {
   "codemirror_mode": {
    "name": "ipython",
    "version": 3
   },
   "file_extension": ".py",
   "mimetype": "text/x-python",
   "name": "python",
   "nbconvert_exporter": "python",
   "pygments_lexer": "ipython3",
   "version": "3.7.7"
  }
 },
 "nbformat": 4,
 "nbformat_minor": 4
}
